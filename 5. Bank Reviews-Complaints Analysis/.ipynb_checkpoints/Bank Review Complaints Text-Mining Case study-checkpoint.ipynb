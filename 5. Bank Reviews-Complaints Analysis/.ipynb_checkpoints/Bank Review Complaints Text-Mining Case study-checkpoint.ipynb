{
 "cells": [
  {
   "cell_type": "markdown",
   "metadata": {},
   "source": [
    "# Business Problem:\n",
    "- Central banks collecting information about customer satisfaction with the services provided by different bank. Also collects the informatin about the complaints.\n",
    "\n",
    "- Bank users give ratings and write reviews about services on central bank websites. These reviews and ratings help to banks evaluate services provided and take necessary to action improve customer service. While ratings are useful to convey the overall experience, they do not convey the context which led a reviewer to that experience.\n",
    "- If we look at only the rating, it is difficult to guess why the user rated the service as 4 stars. However, after reading the review, it is not difficult to identify that the review talks about 'service' and 'expectations'.\n",
    "\n",
    "The objective of the case study is to analyze customer reviews and predict customer satisfaction with the reviews.\n",
    "\n",
    "**Data processing**\n",
    "- key positive words/negative words(most frequent words)\n",
    "- classification of reviews into positive, negative and neutral.\n",
    "- Identify key themes of problems(using clustering, topic models)\n",
    "- Predicting star ratings using reviews\n",
    "- Perform intent analysis\n",
    "\n",
    "**Dataset:**\n",
    "The data is a detailed dump of customer reviews/complaints(~500) of different services at different banks:\n",
    "- date(Day the review was posted),\n",
    "- stars(1-5 rating for the business)\n",
    "- text (Review text),\n",
    "- bank name"
   ]
  },
  {
   "cell_type": "code",
   "execution_count": 46,
   "metadata": {
    "ExecuteTime": {
     "end_time": "2019-08-06T10:25:01.608718Z",
     "start_time": "2019-08-06T10:25:01.567743Z"
    }
   },
   "outputs": [
    {
     "data": {
      "text/html": [
       "<style>\n",
       "body {\n",
       "    font-family: \"Verdana\", cursive, sans-serif;\n",
       "}\n",
       "</style>  \n"
      ],
      "text/plain": [
       "<IPython.core.display.HTML object>"
      ]
     },
     "metadata": {},
     "output_type": "display_data"
    }
   ],
   "source": [
    "%%html\n",
    "<style>\n",
    "body {\n",
    "    font-family: \"Verdana\", cursive, sans-serif;\n",
    "}\n",
    "</style>  "
   ]
  },
  {
   "cell_type": "markdown",
   "metadata": {},
   "source": [
    "# Importing and Analysing Dataset"
   ]
  },
  {
   "cell_type": "code",
   "execution_count": 47,
   "metadata": {
    "ExecuteTime": {
     "end_time": "2019-08-06T10:25:13.522138Z",
     "start_time": "2019-08-06T10:25:13.452179Z"
    }
   },
   "outputs": [],
   "source": [
    "import pandas as pd\n",
    "import numpy as np\n",
    "import seaborn as sns\n",
    "import matplotlib.pyplot as plt\n",
    "%matplotlib inline\n",
    "\n",
    "import sklearn as sk\n",
    "\n",
    "# For encoding\n",
    "from numpy import where as IF\n",
    "\n",
    "# For text cleaning\n",
    "import re\n",
    "\n",
    "# nltk\n",
    "import nltk\n",
    "from nltk.corpus import stopwords\n",
    "from  nltk.stem import SnowballStemmer\n",
    "\n",
    "# Word2vec\n",
    "import gensim\n",
    "\n",
    "# spacy\n",
    "import spacy\n",
    "\n",
    "#Vectorization\n",
    "from sklearn.feature_extraction.text import CountVectorizer,TfidfVectorizer\n",
    "\n",
    "#Model building\n",
    "from sklearn.linear_model import LogisticRegression\n",
    "from sklearn.naive_bayes import MultinomialNB\n",
    "from sklearn.svm import LinearSVC\n",
    "from sklearn.metrics import accuracy_score\n",
    "from sklearn.model_selection import train_test_split\n",
    "\n",
    "import random\n",
    "import os"
   ]
  },
  {
   "cell_type": "code",
   "execution_count": 48,
   "metadata": {
    "ExecuteTime": {
     "end_time": "2019-08-06T10:25:23.268033Z",
     "start_time": "2019-08-06T10:25:22.592417Z"
    }
   },
   "outputs": [],
   "source": [
    "# Importing the Dataset\n",
    "bank = pd.read_excel('BankReviews.xlsx')"
   ]
  },
  {
   "cell_type": "code",
   "execution_count": 49,
   "metadata": {
    "ExecuteTime": {
     "end_time": "2019-08-06T10:25:25.147645Z",
     "start_time": "2019-08-06T10:25:25.071677Z"
    }
   },
   "outputs": [
    {
     "name": "stdout",
     "output_type": "stream",
     "text": [
      "<class 'pandas.core.frame.DataFrame'>\n",
      "RangeIndex: 505 entries, 0 to 504\n",
      "Data columns (total 4 columns):\n",
      "Date        505 non-null datetime64[ns]\n",
      "Stars       505 non-null int64\n",
      "Reviews     505 non-null object\n",
      "BankName    505 non-null object\n",
      "dtypes: datetime64[ns](1), int64(1), object(2)\n",
      "memory usage: 15.9+ KB\n"
     ]
    }
   ],
   "source": [
    "bank.info()"
   ]
  },
  {
   "cell_type": "code",
   "execution_count": 4,
   "metadata": {},
   "outputs": [
    {
     "data": {
      "text/plain": [
       "(505, 4)"
      ]
     },
     "execution_count": 4,
     "metadata": {},
     "output_type": "execute_result"
    }
   ],
   "source": [
    "bank.shape"
   ]
  },
  {
   "cell_type": "code",
   "execution_count": 50,
   "metadata": {
    "ExecuteTime": {
     "end_time": "2019-08-06T10:25:33.941670Z",
     "start_time": "2019-08-06T10:25:33.824738Z"
    }
   },
   "outputs": [
    {
     "data": {
      "text/html": [
       "<div>\n",
       "<style scoped>\n",
       "    .dataframe tbody tr th:only-of-type {\n",
       "        vertical-align: middle;\n",
       "    }\n",
       "\n",
       "    .dataframe tbody tr th {\n",
       "        vertical-align: top;\n",
       "    }\n",
       "\n",
       "    .dataframe thead th {\n",
       "        text-align: right;\n",
       "    }\n",
       "</style>\n",
       "<table border=\"1\" class=\"dataframe\">\n",
       "  <thead>\n",
       "    <tr style=\"text-align: right;\">\n",
       "      <th></th>\n",
       "      <th>Date</th>\n",
       "      <th>Stars</th>\n",
       "      <th>Reviews</th>\n",
       "      <th>BankName</th>\n",
       "    </tr>\n",
       "  </thead>\n",
       "  <tbody>\n",
       "    <tr>\n",
       "      <th>0</th>\n",
       "      <td>2017-04-10</td>\n",
       "      <td>5</td>\n",
       "      <td>Great job, Wyndham Capital! Each person was pr...</td>\n",
       "      <td>Wyndham Capital Mortgage</td>\n",
       "    </tr>\n",
       "    <tr>\n",
       "      <th>1</th>\n",
       "      <td>2017-02-10</td>\n",
       "      <td>5</td>\n",
       "      <td>Matthew Richardson is professional and helpful...</td>\n",
       "      <td>Wyndham Capital Mortgage</td>\n",
       "    </tr>\n",
       "    <tr>\n",
       "      <th>2</th>\n",
       "      <td>2017-08-21</td>\n",
       "      <td>5</td>\n",
       "      <td>We had a past experience with Wyndham Mortgage...</td>\n",
       "      <td>Wyndham Capital Mortgage</td>\n",
       "    </tr>\n",
       "    <tr>\n",
       "      <th>3</th>\n",
       "      <td>2017-12-17</td>\n",
       "      <td>5</td>\n",
       "      <td>We have been dealing with Brad Thomka from the...</td>\n",
       "      <td>Wyndham Capital Mortgage</td>\n",
       "    </tr>\n",
       "    <tr>\n",
       "      <th>4</th>\n",
       "      <td>2016-05-27</td>\n",
       "      <td>5</td>\n",
       "      <td>I can't express how grateful I am for the supp...</td>\n",
       "      <td>Wyndham Capital Mortgage</td>\n",
       "    </tr>\n",
       "  </tbody>\n",
       "</table>\n",
       "</div>"
      ],
      "text/plain": [
       "        Date  Stars                                            Reviews  \\\n",
       "0 2017-04-10      5  Great job, Wyndham Capital! Each person was pr...   \n",
       "1 2017-02-10      5  Matthew Richardson is professional and helpful...   \n",
       "2 2017-08-21      5  We had a past experience with Wyndham Mortgage...   \n",
       "3 2017-12-17      5  We have been dealing with Brad Thomka from the...   \n",
       "4 2016-05-27      5  I can't express how grateful I am for the supp...   \n",
       "\n",
       "                   BankName  \n",
       "0  Wyndham Capital Mortgage  \n",
       "1  Wyndham Capital Mortgage  \n",
       "2  Wyndham Capital Mortgage  \n",
       "3  Wyndham Capital Mortgage  \n",
       "4  Wyndham Capital Mortgage  "
      ]
     },
     "execution_count": 50,
     "metadata": {},
     "output_type": "execute_result"
    }
   ],
   "source": [
    "bank.head()"
   ]
  },
  {
   "cell_type": "code",
   "execution_count": 51,
   "metadata": {
    "ExecuteTime": {
     "end_time": "2019-08-06T10:25:40.924078Z",
     "start_time": "2019-08-06T10:25:40.879104Z"
    }
   },
   "outputs": [],
   "source": [
    "bank['sentiment'] = IF(bank.Stars == 5,1,0)"
   ]
  },
  {
   "cell_type": "code",
   "execution_count": 10,
   "metadata": {
    "ExecuteTime": {
     "end_time": "2019-08-06T08:42:48.335301Z",
     "start_time": "2019-08-06T08:42:48.272338Z"
    }
   },
   "outputs": [
    {
     "data": {
      "text/plain": [
       "North American Savings Bank       193\n",
       "Guarenteed Rate Inc                81\n",
       "Triumph Lending                    60\n",
       "Reliance First Capital             58\n",
       "Pacific Beneficial Mortgage Co     51\n",
       "LoanSnap                           40\n",
       "Wyndham Capital Mortgage           22\n",
       "Name: BankName, dtype: int64"
      ]
     },
     "execution_count": 10,
     "metadata": {},
     "output_type": "execute_result"
    }
   ],
   "source": [
    "bank.BankName.value_counts()"
   ]
  },
  {
   "cell_type": "code",
   "execution_count": 11,
   "metadata": {
    "ExecuteTime": {
     "end_time": "2019-08-06T08:42:50.525050Z",
     "start_time": "2019-08-06T08:42:50.482073Z"
    }
   },
   "outputs": [
    {
     "data": {
      "text/plain": [
       "5    410\n",
       "1     95\n",
       "Name: Stars, dtype: int64"
      ]
     },
     "execution_count": 11,
     "metadata": {},
     "output_type": "execute_result"
    }
   ],
   "source": [
    "bank.Stars.value_counts()"
   ]
  },
  {
   "cell_type": "code",
   "execution_count": 52,
   "metadata": {
    "ExecuteTime": {
     "end_time": "2019-08-06T10:25:48.120327Z",
     "start_time": "2019-08-06T10:25:47.985404Z"
    }
   },
   "outputs": [
    {
     "data": {
      "text/html": [
       "<div>\n",
       "<style scoped>\n",
       "    .dataframe tbody tr th:only-of-type {\n",
       "        vertical-align: middle;\n",
       "    }\n",
       "\n",
       "    .dataframe tbody tr th {\n",
       "        vertical-align: top;\n",
       "    }\n",
       "\n",
       "    .dataframe thead th {\n",
       "        text-align: right;\n",
       "    }\n",
       "</style>\n",
       "<table border=\"1\" class=\"dataframe\">\n",
       "  <thead>\n",
       "    <tr style=\"text-align: right;\">\n",
       "      <th></th>\n",
       "      <th>count</th>\n",
       "      <th>min</th>\n",
       "      <th>max</th>\n",
       "    </tr>\n",
       "    <tr>\n",
       "      <th>BankName</th>\n",
       "      <th></th>\n",
       "      <th></th>\n",
       "      <th></th>\n",
       "    </tr>\n",
       "  </thead>\n",
       "  <tbody>\n",
       "    <tr>\n",
       "      <th>North American Savings Bank</th>\n",
       "      <td>193</td>\n",
       "      <td>1</td>\n",
       "      <td>5</td>\n",
       "    </tr>\n",
       "    <tr>\n",
       "      <th>Guarenteed Rate Inc</th>\n",
       "      <td>81</td>\n",
       "      <td>1</td>\n",
       "      <td>5</td>\n",
       "    </tr>\n",
       "    <tr>\n",
       "      <th>Triumph Lending</th>\n",
       "      <td>60</td>\n",
       "      <td>5</td>\n",
       "      <td>5</td>\n",
       "    </tr>\n",
       "    <tr>\n",
       "      <th>Reliance First Capital</th>\n",
       "      <td>58</td>\n",
       "      <td>1</td>\n",
       "      <td>5</td>\n",
       "    </tr>\n",
       "    <tr>\n",
       "      <th>Pacific Beneficial Mortgage Co</th>\n",
       "      <td>51</td>\n",
       "      <td>1</td>\n",
       "      <td>5</td>\n",
       "    </tr>\n",
       "    <tr>\n",
       "      <th>LoanSnap</th>\n",
       "      <td>40</td>\n",
       "      <td>5</td>\n",
       "      <td>5</td>\n",
       "    </tr>\n",
       "    <tr>\n",
       "      <th>Wyndham Capital Mortgage</th>\n",
       "      <td>22</td>\n",
       "      <td>1</td>\n",
       "      <td>5</td>\n",
       "    </tr>\n",
       "  </tbody>\n",
       "</table>\n",
       "</div>"
      ],
      "text/plain": [
       "                                count  min  max\n",
       "BankName                                       \n",
       "North American Savings Bank       193    1    5\n",
       "Guarenteed Rate Inc                81    1    5\n",
       "Triumph Lending                    60    5    5\n",
       "Reliance First Capital             58    1    5\n",
       "Pacific Beneficial Mortgage Co     51    1    5\n",
       "LoanSnap                           40    5    5\n",
       "Wyndham Capital Mortgage           22    1    5"
      ]
     },
     "execution_count": 52,
     "metadata": {},
     "output_type": "execute_result"
    }
   ],
   "source": [
    "bank.groupby(['BankName'])['Stars'].agg(['count', 'min', 'max']).sort_values('count', ascending=False)"
   ]
  },
  {
   "cell_type": "code",
   "execution_count": 53,
   "metadata": {
    "ExecuteTime": {
     "end_time": "2019-08-06T10:25:54.126482Z",
     "start_time": "2019-08-06T10:25:54.096499Z"
    }
   },
   "outputs": [
    {
     "data": {
      "text/plain": [
       "0    Great job, Wyndham Capital! Each person was pr...\n",
       "1    Matthew Richardson is professional and helpful...\n",
       "2    We had a past experience with Wyndham Mortgage...\n",
       "3    We have been dealing with Brad Thomka from the...\n",
       "4    I can't express how grateful I am for the supp...\n",
       "Name: Reviews, dtype: object"
      ]
     },
     "execution_count": 53,
     "metadata": {},
     "output_type": "execute_result"
    }
   ],
   "source": [
    "reviews = bank.Reviews\n",
    "reviews.head()"
   ]
  },
  {
   "cell_type": "code",
   "execution_count": 54,
   "metadata": {
    "ExecuteTime": {
     "end_time": "2019-08-06T10:25:59.625377Z",
     "start_time": "2019-08-06T10:25:59.539429Z"
    }
   },
   "outputs": [],
   "source": [
    "# Cleaning the text\n",
    "reviews_clean = [re.compile(\"[.;:!\\'?,\\\"()\\[\\]\\r\\n]\").sub(\"\",line.lower()) for line in list(reviews)]"
   ]
  },
  {
   "cell_type": "code",
   "execution_count": 13,
   "metadata": {},
   "outputs": [],
   "source": []
  },
  {
   "cell_type": "markdown",
   "metadata": {},
   "source": [
    "## Sentiment Intensity Analyzer"
   ]
  },
  {
   "cell_type": "code",
   "execution_count": 27,
   "metadata": {
    "collapsed": true
   },
   "outputs": [
    {
     "name": "stdout",
     "output_type": "stream",
     "text": [
      "compound: 0.8011, \n",
      "neg: 0.0, \n",
      "neu: 0.703, \n",
      "pos: 0.297, \n",
      "Great job, Wyndham Capital! Each person was professional and helped us move through our refinance process smoothly. Thank you!\n",
      "compound: 0.8516, \n",
      "neg: 0.0, \n",
      "neu: 0.703, \n",
      "pos: 0.297, \n",
      "Matthew Richardson is professional and helpful. He helped us find the correct product for our mortgage. Thank you very much for the excellent service, Matthew!\n",
      "compound: 0.9595, \n",
      "neg: 0.0, \n",
      "neu: 0.794, \n",
      "pos: 0.206, \n",
      "We had a past experience with Wyndham Mortgage and would without question use again and again if needed!! Wyndham went beyond the extra mile to not only right a wrong encountered from the servicer we were dealing on our previous loan, but they pulled together and found a viable option for us that ultimately saved us money. We would highly recommend Brad Thomka and the Wyndham Capital Mortgage team for your mortgage needs. Sincerest thanks Wyndham!! Ed & Lind\n",
      "compound: 0.9818, \n",
      "neg: 0.018, \n",
      "neu: 0.756, \n",
      "pos: 0.226, \n",
      "We have been dealing with Brad Thomka from the beginning of what started out to be a very stressful time for us, but with the help from Brad and the entire Wyndham Mortgage team it was turned into a happy ending!! Brad and Wyndham went beyond the extra mile to not only right a wrong encountered from the servicer we were dealing on our previous loan, but they pulled together and found a viable option for us that ultimately saved us money. We are indebted and would highly recommend Brad Thomka and the Wyndham Capital Mortgage team for your mortgage needs. Sincerest thanks Wyndham!! Ed & LindRead Less\n",
      "compound: 0.5569, \n",
      "neg: 0.04, \n",
      "neu: 0.861, \n",
      "pos: 0.099, \n",
      "I can't express how grateful I am for the support that Zach provided to me and my family during this home purchase! His customer service, responsiveness and professional demeanor is second to none. He was very thorough and took the time to educate me about the process along the way. I highly recommend working with Zach and Wyndham Capital!\n",
      "compound: 0.8631, \n",
      "neg: 0.039, \n",
      "neu: 0.81, \n",
      "pos: 0.152, \n",
      "I had the pleasure of working with Wyndham Capital in September 2018 as my family and I were making a home purchase in Columbus, OH. From the original conversation with the loan officer to underwriting and all the way through closing, the entire team from Wyndham was very responsive and professional. I was VERY impressed with how smooth their process was and how timely the communication was given how stressful of a process home buying (and selling) can be\n",
      "compound: 0.897, \n",
      "neg: 0.046, \n",
      "neu: 0.716, \n",
      "pos: 0.239, \n",
      "My experience with Mattison was beyond greatly professionally done!! She really cares about her clients needs! She stays on top of everything and if there was a misunderstanding, she would be on top of it for you. Overall she truly bends her back professionally for her clients. She is a wonderful person!\n",
      "compound: 0.8706, \n",
      "neg: 0.0, \n",
      "neu: 0.838, \n",
      "pos: 0.162, \n",
      "Patrick answered all my questions by email immediately and he spent a lot of time making sure I got the right loan for my situation. The portal they use is extremely easy and we closed on the refinance with 2 weeks. Very pleased with the customer service and intend on using Patrick again when we refinance later!!!!\n",
      "compound: 0.471, \n",
      "neg: 0.076, \n",
      "neu: 0.822, \n",
      "pos: 0.102, \n",
      "I loved working with this group of people! They laughed with me over the phone! Always answered my questions and moved the loan along as quickly as possible! Knowledgeable staff! While we were shopping around for a lender, one lender badmouthed Wyndham, they lost my business because of it. When I told Wyndham about it, they had the class not to say anything negative about another company, just to get the \"sell\"\n",
      "compound: 0.7351, \n",
      "neg: 0.0, \n",
      "neu: 0.846, \n",
      "pos: 0.154, \n",
      "Great web interface for both the loan application and document upload and download features. Quick responses to any questions or concerns. Willingness to communicate almost exclusively via email...as phone calls weren't always an option for us.\n"
     ]
    }
   ],
   "source": [
    "from nltk.sentiment.vader import SentimentIntensityAnalyzer\n",
    "\n",
    "sentiment = SentimentIntensityAnalyzer()\n",
    "for sentences in sample_review:\n",
    "    sentences\n",
    "    ss = sentiment.polarity_scores(sentences)\n",
    "    for k in sorted(ss):\n",
    "        print('{0}: {1}, '.format(k, ss[k]))\n",
    "    print(sentences)  "
   ]
  },
  {
   "cell_type": "markdown",
   "metadata": {},
   "source": [
    "## Vectorization"
   ]
  },
  {
   "cell_type": "code",
   "execution_count": 15,
   "metadata": {},
   "outputs": [],
   "source": []
  },
  {
   "cell_type": "code",
   "execution_count": 55,
   "metadata": {
    "ExecuteTime": {
     "end_time": "2019-08-06T10:26:11.976015Z",
     "start_time": "2019-08-06T10:26:11.935039Z"
    }
   },
   "outputs": [],
   "source": [
    "# Spliting the data into train and test\n",
    "reviews_train = pd.Series(reviews_clean)[0:325]\n",
    "reviews_test = pd.Series(reviews_clean)[325:]\n",
    "\n",
    "target_train = bank.sentiment[0:325]\n",
    "target_test = bank.sentiment[325:]"
   ]
  },
  {
   "cell_type": "markdown",
   "metadata": {},
   "source": [
    "## Removing Stop Words"
   ]
  },
  {
   "cell_type": "code",
   "execution_count": 20,
   "metadata": {},
   "outputs": [],
   "source": [
    "english_stop_words = stopwords.words('english')\n",
    "def remove_stop_words(corpus):\n",
    "    removed_stop_words = []\n",
    "    for review in corpus:\n",
    "        removed_stop_words.append(\n",
    "            ' '.join([word for word in review.split() \n",
    "                      if word not in english_stop_words])\n",
    "        )\n",
    "    return removed_stop_words\n",
    "\n",
    "no_stop_words = remove_stop_words(reviews_train)"
   ]
  },
  {
   "cell_type": "markdown",
   "metadata": {},
   "source": [
    "## Normalization\n",
    "A common next step in text preprocessing is to normalize the words in your corpus by trying to convert all of the different forms of a given word into one. Two methods that exist for this are Stemming and Lemmatization.\n",
    "   - **Stemming:**\n",
    "   \n",
    "    Stemming is considered to be the more crude/brute-force approach to normalization (although this doesn’t necessarily mean that it will perform worse). There’s several algorithms, but in general they all use basic rules to chop off the ends of words.\n",
    "    NLTK has several stemming algorithm implementations. We’ll use the Porter stemmer here but you can explore all of the options with examples here: NLTK Stemmers\n"
   ]
  },
  {
   "cell_type": "code",
   "execution_count": 22,
   "metadata": {},
   "outputs": [],
   "source": [
    "def get_stemmed_text(corpus):\n",
    "    from nltk.stem.porter import PorterStemmer\n",
    "    stemmer = PorterStemmer()\n",
    "    return [' '.join([stemmer.stem(word) for word in review.split()]) for review in corpus]\n",
    "\n",
    "stemmed_reviews = get_stemmed_text(reviews_train)"
   ]
  },
  {
   "cell_type": "markdown",
   "metadata": {},
   "source": [
    "   - **Lemmatization:**\n",
    "   \n",
    "    Lemmatization works by identifying the part-of-speech of a given word and then applying more complex rules to transform the word into its true root."
   ]
  },
  {
   "cell_type": "code",
   "execution_count": 23,
   "metadata": {},
   "outputs": [],
   "source": [
    "def get_lemmatized_text(corpus):\n",
    "    from nltk.stem import WordNetLemmatizer\n",
    "    lemmatizer = WordNetLemmatizer()\n",
    "    return [' '.join([lemmatizer.lemmatize(word) for word in review.split()]) for review in corpus]\n",
    "\n",
    "lemmatized_reviews = get_lemmatized_text(reviews_train)"
   ]
  },
  {
   "cell_type": "markdown",
   "metadata": {},
   "source": [
    "## Model using n-grams vectorizer\n",
    "Last time we used only single word features in our model, which we call 1-grams or unigrams. We can potentially add more predictive power to our model by adding two or three word sequences (bigrams or trigrams) as well. For example, if a review had the three word sequence “didn’t love movie” we would only consider these words individually with a unigram-only model and probably not capture that this is actually a negative sentiment because the word ‘love’ by itself is going to be highly correlated with a positive review.\n",
    "    The scikit-learn library makes this really easy to play around with. Just use the ngram_range argument with any of the ‘Vectorizer’ classes."
   ]
  },
  {
   "cell_type": "code",
   "execution_count": 25,
   "metadata": {},
   "outputs": [
    {
     "name": "stdout",
     "output_type": "stream",
     "text": [
      "Accuracy for C=0.01: 0.8902439024390244\n",
      "Accuracy for C=0.05: 0.926829268292683\n",
      "Accuracy for C=0.25: 0.975609756097561\n",
      "Accuracy for C=0.5: 0.975609756097561\n",
      "Accuracy for C=1: 0.975609756097561\n",
      "Accuracy for C=1.25: 0.975609756097561\n",
      "Accuracy for C=1.5: 0.975609756097561\n"
     ]
    }
   ],
   "source": [
    "# Creating n-gram vectorized data using countvectorizer\n",
    "ngram_vectorizer = CountVectorizer(binary=True, ngram_range=(1, 2))\n",
    "ngram_vectorizer.fit(reviews_train)\n",
    "X = ngram_vectorizer.transform(reviews_train)\n",
    "X_test = ngram_vectorizer.transform(reviews_test)\n",
    "\n",
    "X_train, X_val, y_train, y_val = train_test_split(\n",
    "    X, target_train, train_size = 0.75\n",
    ")\n",
    "\n",
    "\n",
    "for c in [0.01, 0.05, 0.25, 0.5, 1, 1.25, 1.5]:    \n",
    "    lr = LogisticRegression(C=c)\n",
    "    lr.fit(X_train, y_train)\n",
    "    print (\"Accuracy for C=%s: %s\" \n",
    "           % (c, accuracy_score(y_val, lr.predict(X_val))))\n",
    "        "
   ]
  },
  {
   "cell_type": "code",
   "execution_count": 26,
   "metadata": {},
   "outputs": [
    {
     "name": "stdout",
     "output_type": "stream",
     "text": [
      "Final Accuracy: 0.9388888888888889\n"
     ]
    }
   ],
   "source": [
    "final_ngram = LogisticRegression(C=1)\n",
    "final_ngram.fit(X, target_train)\n",
    "print (\"Final Accuracy: %s\" \n",
    "       % accuracy_score(target_test, final_ngram.predict(X_test)))"
   ]
  },
  {
   "cell_type": "markdown",
   "metadata": {},
   "source": [
    "## Model using Word Counts Vectorizer"
   ]
  },
  {
   "cell_type": "markdown",
   "metadata": {},
   "source": [
    "Instead of simply noting whether a word appears in the review or not, we can include the number of times a given word appears. This can give our sentiment classifier a lot more predictive power. For example, if a movie reviewer says ‘amazing’ or ‘terrible’ multiple times in a review it is considerably more probable that the review is positive or negative, respectively."
   ]
  },
  {
   "cell_type": "code",
   "execution_count": 122,
   "metadata": {},
   "outputs": [
    {
     "name": "stdout",
     "output_type": "stream",
     "text": [
      "Accuracy for C=0.01: 0.8536585365853658\n",
      "Accuracy for C=0.05: 0.8536585365853658\n",
      "Accuracy for C=0.25: 0.9024390243902439\n",
      "Accuracy for C=0.5: 0.9024390243902439\n",
      "Accuracy for C=1: 0.9024390243902439\n",
      "Final Accuracy: 0.9222222222222223\n"
     ]
    }
   ],
   "source": [
    "# creating word_count vectorized data using count vectorizer\n",
    "wc_vectorizer = CountVectorizer(binary=False)\n",
    "wc_vectorizer.fit(reviews_train)\n",
    "X = wc_vectorizer.transform(reviews_train)\n",
    "X_test = wc_vectorizer.transform(reviews_test)\n",
    "\n",
    "X_train, X_val, y_train, y_val = train_test_split(\n",
    "    X, target_train, train_size = 0.75, \n",
    ")\n",
    "\n",
    "for c in [0.01, 0.05, 0.25, 0.5, 1]:    \n",
    "    lr = LogisticRegression(C=c)\n",
    "    lr.fit(X_train, y_train)\n",
    "    print (\"Accuracy for C=%s: %s\" \n",
    "           % (c, accuracy_score(y_val, lr.predict(X_val))))\n",
    "\n",
    "    \n",
    "final_wc = LogisticRegression(C=0.25)\n",
    "final_wc.fit(X, target_train)\n",
    "print (\"Final Accuracy: %s\" \n",
    "       % accuracy_score(target_test, final_wc.predict(X_test)))"
   ]
  },
  {
   "cell_type": "markdown",
   "metadata": {},
   "source": [
    "## Model using TF-IDF vectorizer\n",
    "Another common way to represent each document in a corpus is to use the tf-idf statistic (term frequency-inverse document frequency) for each word, which is a weighting factor that we can use in place of binary or word count representations.\n",
    "    \n",
    "   There are several ways to do tf-idf transformation but in a nutshell, tf-idf aims to represent the number of times a given word appears in a document (a movie review in our case) relative to the number of documents in the corpus that the word appears in — where words that appear in many documents have a value closer to zero and words that appear in less documents have values closer to 1.\n",
    "   - Note: Now that we’ve gone over n-grams, when I refer to ‘words’ I really mean any n-gram (sequence of words) if the model is using an n greater than one."
   ]
  },
  {
   "cell_type": "code",
   "execution_count": 123,
   "metadata": {},
   "outputs": [
    {
     "name": "stdout",
     "output_type": "stream",
     "text": [
      "Accuracy for C=0.01: 0.8658536585365854\n",
      "Accuracy for C=0.05: 0.8658536585365854\n",
      "Accuracy for C=0.25: 0.8658536585365854\n",
      "Accuracy for C=0.5: 0.8658536585365854\n",
      "Accuracy for C=1: 0.8780487804878049\n",
      "Final Accuracy: 0.85\n"
     ]
    }
   ],
   "source": [
    "# Creating Tf-idf vectorized data using Tfidfvectorizer\n",
    "tfidf_vectorizer = TfidfVectorizer()\n",
    "tfidf_vectorizer.fit(reviews_train)\n",
    "X = tfidf_vectorizer.transform(reviews_train)\n",
    "X_test = tfidf_vectorizer.transform(reviews_test)\n",
    "\n",
    "X_train, X_val, y_train, y_val = train_test_split(\n",
    "    X, target_train, train_size = 0.75\n",
    ")\n",
    "\n",
    "for c in [0.01, 0.05, 0.25, 0.5, 1]:    \n",
    "    lr = LogisticRegression(C=c)\n",
    "    lr.fit(X_train, y_train)\n",
    "    print (\"Accuracy for C=%s: %s\" \n",
    "           % (c, accuracy_score(y_val, lr.predict(X_val))))\n",
    "\n",
    "    \n",
    "final_tfidf = LogisticRegression(C=1)\n",
    "final_tfidf.fit(X, target_train)\n",
    "print (\"Final Accuracy: %s\" \n",
    "       % accuracy_score(target_test, final_tfidf.predict(X_test)))\n"
   ]
  },
  {
   "cell_type": "markdown",
   "metadata": {},
   "source": [
    "## Algorithms"
   ]
  },
  {
   "cell_type": "markdown",
   "metadata": {},
   "source": [
    "### Logistic Regression\n",
    "Now that we’ve transformed our dataset into a format suitable for modeling we can start building a classifier. Logistic Regression is a good baseline model for us to use for several reasons: \n",
    "   - They’re easy to interpret, \n",
    "   - linear models tend to perform well on sparse datasets like this one, and \n",
    "   - they learn very fast compared to other algorithms.\n",
    "   \n",
    "To keep things simple I’m only going to worry about the hyperparameter C, which adjusts the regularization."
   ]
  },
  {
   "cell_type": "code",
   "execution_count": 16,
   "metadata": {},
   "outputs": [
    {
     "name": "stderr",
     "output_type": "stream",
     "text": [
      "C:\\anaconda3old\\lib\\site-packages\\sklearn\\model_selection\\_split.py:2179: FutureWarning: From version 0.21, test_size will always complement train_size unless both are specified.\n",
      "  FutureWarning)\n",
      "C:\\anaconda3old\\lib\\site-packages\\sklearn\\linear_model\\logistic.py:433: FutureWarning: Default solver will be changed to 'lbfgs' in 0.22. Specify a solver to silence this warning.\n",
      "  FutureWarning)\n"
     ]
    },
    {
     "name": "stdout",
     "output_type": "stream",
     "text": [
      "Accuracy for C=0.01: 0.8292682926829268\n",
      "Accuracy for C=0.05: 0.8780487804878049\n",
      "Accuracy for C=0.25: 0.9390243902439024\n",
      "Accuracy for C=0.5: 0.926829268292683\n",
      "Accuracy for C=1: 0.926829268292683\n"
     ]
    }
   ],
   "source": [
    "# Creating vectorized data using countVectorizer\n",
    "cv = CountVectorizer(binary=True)\n",
    "cv.fit(reviews_train)\n",
    "X = cv.transform(reviews_train)\n",
    "X_test = cv.transform(reviews_test)\n",
    "\n",
    "# Spliting the train data into train and validation data\n",
    "X_train, X_val, y_train, y_val = train_test_split(X, target_train, train_size = 0.75)\n",
    "    \n",
    "for c in [0.01, 0.05, 0.25, 0.5, 1]:    \n",
    "    lr = LogisticRegression(C=c)\n",
    "    lr.fit(X_train, y_train)\n",
    "    print (\"Accuracy for C=%s: %s\" \n",
    "           % (c, accuracy_score(y_val, lr.predict(X_val))))"
   ]
  },
  {
   "cell_type": "markdown",
   "metadata": {},
   "source": [
    "- It looks like the value of C that gives us the highest accuracy is 0.5."
   ]
  },
  {
   "cell_type": "code",
   "execution_count": 17,
   "metadata": {},
   "outputs": [
    {
     "name": "stdout",
     "output_type": "stream",
     "text": [
      "Final Accuracy: 0.9388888888888889\n"
     ]
    }
   ],
   "source": [
    "# Train final Model\n",
    "\n",
    "final_model = LogisticRegression(C=0.5)\n",
    "final_model.fit(X, target_train)\n",
    "print (\"Final Accuracy: %s\" \n",
    "       % accuracy_score(target_test, final_model.predict(X_test)))"
   ]
  },
  {
   "cell_type": "markdown",
   "metadata": {},
   "source": [
    "- let’s look at the 5 most discriminating words for both positive and negative reviews. We’ll do this by looking at the largest and smallest coefficients, respectively."
   ]
  },
  {
   "cell_type": "code",
   "execution_count": 18,
   "metadata": {},
   "outputs": [
    {
     "name": "stdout",
     "output_type": "stream",
     "text": [
      "('great', 0.6831947683843828)\n",
      "('and', 0.5049972724815323)\n",
      "('time', 0.48043766718047926)\n",
      "('he', 0.4784869617486104)\n",
      "('with', 0.4432941967562746)\n"
     ]
    }
   ],
   "source": [
    "feature_to_coef = {\n",
    "    word: coef for word, coef in zip(\n",
    "        cv.get_feature_names(), final_model.coef_[0]\n",
    "    )\n",
    "}\n",
    "\n",
    "# Positive words\n",
    "for best_positive in sorted(\n",
    "    feature_to_coef.items(), \n",
    "    key=lambda x: x[1], \n",
    "    reverse=True)[:5]:\n",
    "    print (best_positive)\n",
    "\n",
    "# Negative words\n",
    "for best_negative in sorted(\n",
    "    feature_to_coef.items(), \n",
    "    key=lambda x: x[1])[:5]:\n",
    "    print (best_negative)"
   ]
  },
  {
   "cell_type": "code",
   "execution_count": null,
   "metadata": {},
   "outputs": [],
   "source": []
  },
  {
   "cell_type": "markdown",
   "metadata": {},
   "source": [
    "### Support Vector Machines (SVM)\n",
    "Recall that linear classifiers tend to work well on very sparse datasets (like the one we have). Another algorithm that can produce great results with a quick training time are Support Vector Machines with a linear kernel."
   ]
  },
  {
   "cell_type": "code",
   "execution_count": 127,
   "metadata": {},
   "outputs": [
    {
     "name": "stdout",
     "output_type": "stream",
     "text": [
      "Accuracy for C=0.01: 0.9146341463414634\n",
      "Accuracy for C=0.05: 0.9390243902439024\n"
     ]
    },
    {
     "name": "stderr",
     "output_type": "stream",
     "text": [
      "C:\\anaconda3old\\lib\\site-packages\\sklearn\\svm\\base.py:931: ConvergenceWarning: Liblinear failed to converge, increase the number of iterations.\n",
      "  \"the number of iterations.\", ConvergenceWarning)\n"
     ]
    },
    {
     "name": "stdout",
     "output_type": "stream",
     "text": [
      "Accuracy for C=0.25: 0.9390243902439024\n"
     ]
    },
    {
     "name": "stderr",
     "output_type": "stream",
     "text": [
      "C:\\anaconda3old\\lib\\site-packages\\sklearn\\svm\\base.py:931: ConvergenceWarning: Liblinear failed to converge, increase the number of iterations.\n",
      "  \"the number of iterations.\", ConvergenceWarning)\n"
     ]
    },
    {
     "name": "stdout",
     "output_type": "stream",
     "text": [
      "Accuracy for C=0.5: 0.9390243902439024\n"
     ]
    },
    {
     "name": "stderr",
     "output_type": "stream",
     "text": [
      "C:\\anaconda3old\\lib\\site-packages\\sklearn\\svm\\base.py:931: ConvergenceWarning: Liblinear failed to converge, increase the number of iterations.\n",
      "  \"the number of iterations.\", ConvergenceWarning)\n"
     ]
    },
    {
     "name": "stdout",
     "output_type": "stream",
     "text": [
      "Accuracy for C=1: 0.9390243902439024\n",
      "Final Accuracy: 0.9333333333333333\n"
     ]
    },
    {
     "name": "stderr",
     "output_type": "stream",
     "text": [
      "C:\\anaconda3old\\lib\\site-packages\\sklearn\\svm\\base.py:931: ConvergenceWarning: Liblinear failed to converge, increase the number of iterations.\n",
      "  \"the number of iterations.\", ConvergenceWarning)\n"
     ]
    }
   ],
   "source": [
    "# ngram vectorizer\n",
    "ngram_vectorizer = CountVectorizer(binary=True, ngram_range=(1, 2))\n",
    "ngram_vectorizer.fit(reviews_train)\n",
    "X = ngram_vectorizer.transform(reviews_train)\n",
    "X_test = ngram_vectorizer.transform(reviews_test)\n",
    "\n",
    "X_train, X_val, y_train, y_val = train_test_split(\n",
    "    X, target_train, train_size = 0.75\n",
    ")\n",
    "\n",
    "for c in [0.01, 0.05, 0.25, 0.5, 1]:    \n",
    "    svm = LinearSVC(C=c)\n",
    "    svm.fit(X_train, y_train)\n",
    "    print (\"Accuracy for C=%s: %s\" \n",
    "           % (c, accuracy_score(y_val, svm.predict(X_val))))\n",
    "    \n",
    "\n",
    "final_svm_ngram = LinearSVC(C=1)\n",
    "final_svm_ngram.fit(X, target_train)\n",
    "print (\"Final Accuracy: %s\" \n",
    "       % accuracy_score(target_test, final_svm_ngram.predict(X_test)))\n"
   ]
  },
  {
   "cell_type": "markdown",
   "metadata": {},
   "source": [
    "### Naive Bayes(Multinominal) Classifier\n",
    "    Naive Bayes classifier for multinomial models\n",
    "\n",
    "The multinomial Naive Bayes classifier is suitable for classification with discrete features (e.g., word counts for text classification). The multinomial distribution normally requires integer feature counts. However, in practice, fractional counts such as tf-idf may also work."
   ]
  },
  {
   "cell_type": "code",
   "execution_count": 28,
   "metadata": {},
   "outputs": [
    {
     "name": "stdout",
     "output_type": "stream",
     "text": [
      "Accuracy for C=0.01: 1.0\n",
      "Accuracy for C=0.05: 1.0\n",
      "Accuracy for C=0.25: 1.0\n",
      "Accuracy for C=0.5: 1.0\n",
      "Accuracy for C=1: 1.0\n"
     ]
    },
    {
     "name": "stderr",
     "output_type": "stream",
     "text": [
      "C:\\anaconda3old\\lib\\site-packages\\sklearn\\model_selection\\_split.py:2179: FutureWarning: From version 0.21, test_size will always complement train_size unless both are specified.\n",
      "  FutureWarning)\n"
     ]
    }
   ],
   "source": [
    "# Count vectorizer\n",
    "wc_vectorizer = CountVectorizer(binary=False)\n",
    "wc_vectorizer.fit(reviews_train)\n",
    "X = wc_vectorizer.transform(reviews_train)\n",
    "X_test = wc_vectorizer.transform(reviews_test)\n",
    "\n",
    "\n",
    "X_train, X_val, y_train, y_val = train_test_split(\n",
    "    X, target_train, train_size = 0.75\n",
    ")\n",
    "\n",
    "for c in [0.01, 0.05, 0.25, 0.5, 1]:    \n",
    "    clf = MultinomialNB(alpha=1)\n",
    "    clf.fit(X_train, y_train)\n",
    "    print (\"Accuracy for C=%s: %s\" \n",
    "           % (c, accuracy_score(y_val, clf.predict(X_val))))\n",
    "    \n"
   ]
  },
  {
   "cell_type": "code",
   "execution_count": 30,
   "metadata": {},
   "outputs": [
    {
     "name": "stdout",
     "output_type": "stream",
     "text": [
      "Accuracy for C=0.01: 0.7926829268292683\n",
      "Accuracy for C=0.05: 0.7926829268292683\n",
      "Accuracy for C=0.25: 0.7926829268292683\n",
      "Accuracy for C=0.5: 0.7926829268292683\n",
      "Accuracy for C=1: 0.7926829268292683\n"
     ]
    },
    {
     "name": "stderr",
     "output_type": "stream",
     "text": [
      "C:\\anaconda3old\\lib\\site-packages\\sklearn\\model_selection\\_split.py:2179: FutureWarning: From version 0.21, test_size will always complement train_size unless both are specified.\n",
      "  FutureWarning)\n"
     ]
    }
   ],
   "source": [
    "# tf-idf vectorizer\n",
    "tfidf_vectorizer = TfidfVectorizer()\n",
    "tfidf_vectorizer.fit(reviews_train)\n",
    "X = tfidf_vectorizer.transform(reviews_train)\n",
    "X_test = tfidf_vectorizer.transform(reviews_test)\n",
    "\n",
    "\n",
    "X_train, X_val, y_train, y_val = train_test_split(\n",
    "    X, target_train, train_size = 0.75\n",
    ")\n",
    "\n",
    "for c in [0.01, 0.05, 0.25, 0.5, 1]:\n",
    "    \n",
    "    clf = MultinomialNB(alpha=1)\n",
    "    clf.fit(X_train, y_train)\n",
    "    print (\"Accuracy for C=%s: %s\" \n",
    "           % (c, accuracy_score(y_val, clf.predict(X_val))))"
   ]
  },
  {
   "cell_type": "markdown",
   "metadata": {},
   "source": [
    "# TOPIC Modelling (INTENT ANALYSIS)"
   ]
  },
  {
   "cell_type": "markdown",
   "metadata": {},
   "source": [
    "## Latent Dirichlet Allocation (LDA)"
   ]
  },
  {
   "cell_type": "markdown",
   "metadata": {},
   "source": [
    "### Text Cleaning for LDA"
   ]
  },
  {
   "cell_type": "code",
   "execution_count": 34,
   "metadata": {},
   "outputs": [],
   "source": [
    "# spacy.load('en')\n",
    "from spacy.lang.en import English\n",
    "parser = English()\n",
    "def tokenize(text):\n",
    "    lda_tokens = []\n",
    "    tokens = parser(text)\n",
    "    for token in tokens:\n",
    "        if token.orth_.isspace():\n",
    "            continue\n",
    "        elif token.like_url:\n",
    "            lda_tokens.append('URL')\n",
    "        elif token.orth_.startswith('@'):\n",
    "            lda_tokens.append('SCREEN_NAME')\n",
    "        else:\n",
    "            lda_tokens.append(token.lower_)\n",
    "    return lda_tokens\n",
    "\n",
    "\n",
    "# nltk.download('wordnet')\n",
    "from nltk.corpus import wordnet as wn\n",
    "def get_lemma(word):\n",
    "    lemma = wn.morphy(word)\n",
    "    if lemma is None:\n",
    "        return word\n",
    "    else:\n",
    "        return lemma\n",
    "    \n",
    "from nltk.stem.wordnet import WordNetLemmatizer\n",
    "\n",
    "def get_lemma2(word):\n",
    "    return WordNetLemmatizer().lemmatize(word)\n",
    "\n",
    "en_stop = set(nltk.corpus.stopwords.words('english'))\n",
    "\n",
    "def prepare_text_for_lda(text):\n",
    "    tokens = tokenize(text)\n",
    "    tokens = [token for token in tokens if len(token) > 4]\n",
    "    tokens = [token for token in tokens if token not in en_stop]\n",
    "    tokens = [get_lemma(token) for token in tokens]\n",
    "    return tokens"
   ]
  },
  {
   "cell_type": "code",
   "execution_count": 36,
   "metadata": {},
   "outputs": [
    {
     "name": "stdout",
     "output_type": "stream",
     "text": [
      "dogs dog dog\n",
      "ran run ran\n",
      "discouraged discourage discouraged\n"
     ]
    }
   ],
   "source": [
    "for w in ['dogs', 'ran', 'discouraged']:\n",
    "    print(w, get_lemma(w), get_lemma2(w))"
   ]
  },
  {
   "cell_type": "code",
   "execution_count": 49,
   "metadata": {
    "collapsed": true
   },
   "outputs": [
    {
     "name": "stdout",
     "output_type": "stream",
     "text": [
      "['start', 'refinance', 'things', 'going', 'problem', 'credit', 'years', 'earlier', 'possible', 'would', 'understand', 'never', 'hear', 'call', 'several', 'times', 'response', 'call', 'supervisor', 'response', 'mail', 'response', 'company', 'busness']\n",
      "['work', 'klossner', 'officer', 'confirm', 'could', 'offer', 'lower', 'financial', 'institution', 'additional', 'explain', 'different', 'type', 'conventional', 'versus', 'loan', 'calculate', 'approximate', 'monthly', 'payment', 'closing', 'costs', 'never', 'pressure', 'rush', 'decision', 'quite', 'opposite', 'whatever', 'need', 'fully', 'understand', 'option', 'choice', 'right', 'base', 'unique', 'circumstances', 'beyond', 'comfortable', 'big', 'financial', 'decision', 'thanks', 'star']\n",
      "['stephanie', 'drewry', 'wonderful', 'purchasing', 'another', 'state', 'though', 'customer', 'receive', 'personal', 'timely']\n",
      "['friendly', 'knowledgeable', 'willing', 'answer', 'question', 'would', 'highly', 'recommend', 'refinance']\n",
      "['great', 'initial', 'email', 'inquiry', 'request', 'final', 'stage', 'process', 'staff', 'work', 'timely', 'manner', 'always', 'available', 'recommend', 'future', 'arise']\n",
      "['great', 'experience', 'working', 'joanne', 'experience', 'knowledgeable', 'patient', 'answer', 'question', 'basic', 'everything', 'understand', 'accessible', 'process', 'definitely', 'help', 'reduce', 'doubt', 'hesitation', 'across', 'result', 'process', 'smoothly', 'confident', 'decision', 'result', 'would', 'strongly', 'recommend', 'anyone', 'process', 'buying']\n",
      "['always', 'available', 'address', 'concern', 'seem', 'really', 'customer', 'going', 'refinance', 'never', 'pleasant', 'painless', 'possible', 'thanks']\n",
      "['start', 'quite', 'donna', 'friendly', 'quick', 'respond', 'question', 'clearly', 'explain', 'things', 'would', 'unfold', 'sound', 'great', 'count', 'never', 'single', 'promise', 'problem', 'times', 'would', 'assurance', 'something', 'donna', 'would', 'respond', 'things', 'would', 'complete', 'wish', 'promise', 'violate', 'every', 'single', 'example', 'first', 'second', 'conversation', 'explain', 'donna', 'would', 'traveling', 'country', 'week', 'beginning', 'process', 'would', 'problem', 'close', 'close', 'several', 'week', 'departure', 'week', 'later', 'ready', 'close', 'happen', 'donna', 'would', 'email', 'documentation', 'would', 'email', 'within', 'hours', 'depend', 'occasion', 'donna', 'would', 'assure', 'documentation', 'great', 'everything', 'need', 'week', 'later', 'would', 'additional', 'documentation', 'happen', 'times', 'later', 'process', 'ask', 'repeat', 'earlier', 'documentation', 'earlier', 'documentation', 'provide', 'pattern', 'recur', 'customer', 'incompetent', 'every', 'complain', 'additional', 'request', 'promise', 'donna', 'complaint', 'justify', 'sorry', 'unable', 'unwilling', 'rectify', 'break', 'promise', 'finally', 'close', 'week', 'initial', 'application', 'imagine', 'process', 'would', 'take', 'respond', 'every', 'request', 'push', 'treat', 'customer', 'complete', 'disrespect', 'someone', 'own', 'several', 'property', 'receive', 'mortgage', 'different', 'banks', 'honestly', 'worst', 'mortgage', 'experience', 'another', 'professional', 'respectful', 'customer', 'could', 'lower']\n"
     ]
    }
   ],
   "source": [
    "text_data = []\n",
    "for review in reviews:\n",
    "    tokens = prepare_text_for_lda(review)\n",
    "    if random.random() > .99:\n",
    "        print(tokens)\n",
    "        text_data.append(tokens)\n",
    "    \n",
    "\n",
    "from gensim import corpora\n",
    "dictionary = corpora.Dictionary(text_data)\n",
    "corpus = [dictionary.doc2bow(text) for text in text_data]\n",
    "\n",
    "import gensim\n",
    "NUM_TOPICS = 5\n",
    "ldamodel = gensim.models.ldamodel.LdaModel(corpus, num_topics = NUM_TOPICS, id2word=dictionary, passes=15)\n",
    "# ldamodel.save('model5.gensim')\n",
    "# ldamodel\n",
    "\n",
    "topics = ldamodel.print_topics(num_words=4)\n",
    "for topic in topics:\n",
    "    print(topic)"
   ]
  },
  {
   "cell_type": "markdown",
   "metadata": {},
   "source": [
    "### Create the Document-Word matrix\n",
    "\n",
    "The LDA topic model algorithm requires a document word matrix as the main input.\n",
    "\n",
    "You can create one using CountVectorizer. \n",
    "\n",
    "- consider words that has occurred at least 10 times (min_df), \n",
    "- remove built-in english stopwords, \n",
    "- convert all words to lowercase, \n",
    "- and a word can contain numbers and alphabets of at least length 3 in order to be qualified as a word.\n",
    "\n"
   ]
  },
  {
   "cell_type": "code",
   "execution_count": 114,
   "metadata": {},
   "outputs": [],
   "source": [
    "data_for_lda = []\n",
    "for i in range(len(reviews)):\n",
    "    t = ' '.join(prepare_text_for_lda(reviews[i]))\n",
    "    data_for_lda.append(t)\n",
    "\n",
    "\n",
    "vectorizer = CountVectorizer(analyzer='word',  min_df=10, token_pattern='[a-zA-Z0-9]{3,}')\n",
    "data_vectorized = vectorizer.fit_transform(data_for_lda)"
   ]
  },
  {
   "cell_type": "code",
   "execution_count": 118,
   "metadata": {},
   "outputs": [
    {
     "name": "stderr",
     "output_type": "stream",
     "text": [
      "C:\\anaconda3old\\lib\\site-packages\\sklearn\\decomposition\\online_lda.py:314: DeprecationWarning: n_topics has been renamed to n_components in version 0.19 and will be removed in 0.21\n",
      "  DeprecationWarning)\n"
     ]
    },
    {
     "name": "stdout",
     "output_type": "stream",
     "text": [
      "LatentDirichletAllocation(batch_size=30, doc_topic_prior=None,\n",
      "             evaluate_every=-1, learning_decay=0.7,\n",
      "             learning_method='online', learning_offset=10.0,\n",
      "             max_doc_update_iter=100, max_iter=10, mean_change_tol=0.001,\n",
      "             n_components=10, n_jobs=-1, n_topics=5, perp_tol=0.1,\n",
      "             random_state=100, topic_word_prior=None,\n",
      "             total_samples=1000000.0, verbose=0)\n"
     ]
    }
   ],
   "source": [
    "#For this example, I have set the n_topics as 5 based on prior knowledge about the dataset. Later we will find the optimal number using grid search.\n",
    "from sklearn.decomposition import LatentDirichletAllocation\n",
    "\n",
    "# Build LDA Model\n",
    "lda_model = LatentDirichletAllocation(n_topics=5,               # Number of topics\n",
    "                                      max_iter=10,               # Max learning iterations\n",
    "                                      learning_method='online',   \n",
    "                                      random_state=100,          # Random state\n",
    "                                      batch_size=30,            # n docs in each learning iter\n",
    "                                      evaluate_every = -1,       # compute perplexity every n iters, default: Don't\n",
    "                                      n_jobs = -1,               # Use all available CPUs\n",
    "                                     )\n",
    "lda_output = lda_model.fit_transform(data_vectorized)\n",
    "\n",
    "print(lda_model)  # Model attributes"
   ]
  },
  {
   "cell_type": "code",
   "execution_count": 120,
   "metadata": {},
   "outputs": [
    {
     "name": "stdout",
     "output_type": "stream",
     "text": [
      "Log Likelihood:  -46878.887877812784\n",
      "Perplexity:  222.68891914795503\n",
      "{'batch_size': 30,\n",
      " 'doc_topic_prior': None,\n",
      " 'evaluate_every': -1,\n",
      " 'learning_decay': 0.7,\n",
      " 'learning_method': 'online',\n",
      " 'learning_offset': 10.0,\n",
      " 'max_doc_update_iter': 100,\n",
      " 'max_iter': 10,\n",
      " 'mean_change_tol': 0.001,\n",
      " 'n_components': 10,\n",
      " 'n_jobs': -1,\n",
      " 'n_topics': 5,\n",
      " 'perp_tol': 0.1,\n",
      " 'random_state': 100,\n",
      " 'topic_word_prior': None,\n",
      " 'total_samples': 1000000.0,\n",
      " 'verbose': 0}\n"
     ]
    }
   ],
   "source": [
    "# clean printing\n",
    "from pprint import pprint\n",
    "\n",
    "# Log Likelyhood: Higher the better\n",
    "print(\"Log Likelihood: \", lda_model.score(data_vectorized))\n",
    "\n",
    "# Perplexity: Lower the better. Perplexity = exp(-1. * log-likelihood per word)\n",
    "print(\"Perplexity: \", lda_model.perplexity(data_vectorized))\n",
    "\n",
    "# See model parameters\n",
    "pprint(lda_model.get_params())"
   ]
  },
  {
   "cell_type": "markdown",
   "metadata": {},
   "source": [
    "### How to GridSearch the best LDA model?\n",
    "\n",
    "The most important tuning parameter for LDA models \n",
    "- n_components (number of topics). \n",
    "- learning_decay (which controls the learning rate)\n",
    "\n",
    "Other possible search params: \n",
    "- learning_offset (downweigh early iterations. Should be > 1) \n",
    "- max_iter.\n"
   ]
  },
  {
   "cell_type": "code",
   "execution_count": 122,
   "metadata": {},
   "outputs": [
    {
     "name": "stderr",
     "output_type": "stream",
     "text": [
      "C:\\anaconda3old\\lib\\site-packages\\sklearn\\model_selection\\_split.py:2053: FutureWarning: You should specify a value for 'cv' instead of relying on the default value. The default value will change from 3 to 5 in version 0.22.\n",
      "  warnings.warn(CV_WARNING, FutureWarning)\n",
      "C:\\anaconda3old\\lib\\site-packages\\sklearn\\model_selection\\_search.py:841: DeprecationWarning: The default of the `iid` parameter will change from True to False in version 0.22 and will be removed in 0.24. This will change numeric results when test-set sizes are unequal.\n",
      "  DeprecationWarning)\n"
     ]
    },
    {
     "data": {
      "text/plain": [
       "GridSearchCV(cv='warn', error_score='raise-deprecating',\n",
       "       estimator=LatentDirichletAllocation(batch_size=128, doc_topic_prior=None,\n",
       "             evaluate_every=-1, learning_decay=0.7,\n",
       "             learning_method='batch', learning_offset=10.0,\n",
       "             max_doc_update_iter=100, max_iter=10, mean_change_tol=0.001,\n",
       "             n_components=10, n_jobs=None, n_topics=None, perp_tol=0.1,\n",
       "             random_state=None, topic_word_prior=None,\n",
       "             total_samples=1000000.0, verbose=0),\n",
       "       fit_params=None, iid='warn', n_jobs=None,\n",
       "       param_grid={'n_components': [5, 10, 15, 20, 25, 30], 'learning_decay': [0.5, 0.7, 0.9]},\n",
       "       pre_dispatch='2*n_jobs', refit=True, return_train_score='warn',\n",
       "       scoring=None, verbose=0)"
      ]
     },
     "execution_count": 122,
     "metadata": {},
     "output_type": "execute_result"
    }
   ],
   "source": [
    "from sklearn.model_selection import GridSearchCV\n",
    "# Define Search Param\n",
    "search_params = {'n_components': [5, 10, 15, 20, 25, 30], 'learning_decay': [.5, .7, .9]}\n",
    "\n",
    "# Init the Model\n",
    "lda = LatentDirichletAllocation()\n",
    "\n",
    "# Init Grid Search Class\n",
    "model = GridSearchCV(lda, param_grid=search_params)\n",
    "\n",
    "# Do the Grid Search\n",
    "model.fit(data_vectorized)"
   ]
  },
  {
   "cell_type": "raw",
   "metadata": {},
   "source": [
    "# model pickle\n",
    "pickle_out = open(\"gridsearch_model.pickle\",\"wb\")\n",
    "pickle.dump(model, pickle_out)\n",
    "pickle_out.close()\n",
    "\n",
    "# Load model from pickle\n",
    "pickle_in = open(\"gridsearch_model.pickle\",\"rb\")\n",
    "model = pickle.load(pickle_in)\n"
   ]
  },
  {
   "cell_type": "code",
   "execution_count": 123,
   "metadata": {},
   "outputs": [
    {
     "name": "stdout",
     "output_type": "stream",
     "text": [
      "Best Model's Params:  {'learning_decay': 0.5, 'n_components': 5}\n",
      "Best Log Likelihood Score:  -17473.803244906176\n",
      "Model Perplexity:  222.29077218865464\n"
     ]
    }
   ],
   "source": [
    "# Best Model\n",
    "best_lda_model = model.best_estimator_\n",
    "\n",
    "# Model Parameters\n",
    "print(\"Best Model's Params: \", model.best_params_)\n",
    "\n",
    "# Log Likelihood Score\n",
    "print(\"Best Log Likelihood Score: \", model.best_score_)\n",
    "\n",
    "# Perplexity\n",
    "print(\"Model Perplexity: \", best_lda_model.perplexity(data_vectorized))"
   ]
  },
  {
   "cell_type": "markdown",
   "metadata": {},
   "source": [
    "### Dominant topic in each document\n",
    "\n",
    "To classify a document as belonging to a particular topic, a logical approach is to see which topic has the highest contribution to that document and assign it.\n"
   ]
  },
  {
   "cell_type": "code",
   "execution_count": 124,
   "metadata": {},
   "outputs": [],
   "source": [
    "best_lda_model.n_topics = 5"
   ]
  },
  {
   "cell_type": "code",
   "execution_count": 128,
   "metadata": {},
   "outputs": [
    {
     "data": {
      "text/html": [
       "<div>\n",
       "<style scoped>\n",
       "    .dataframe tbody tr th:only-of-type {\n",
       "        vertical-align: middle;\n",
       "    }\n",
       "\n",
       "    .dataframe tbody tr th {\n",
       "        vertical-align: top;\n",
       "    }\n",
       "\n",
       "    .dataframe thead th {\n",
       "        text-align: right;\n",
       "    }\n",
       "</style>\n",
       "<table border=\"1\" class=\"dataframe\">\n",
       "  <thead>\n",
       "    <tr style=\"text-align: right;\">\n",
       "      <th></th>\n",
       "      <th>Topic0</th>\n",
       "      <th>Topic1</th>\n",
       "      <th>Topic2</th>\n",
       "      <th>Topic3</th>\n",
       "      <th>Topic4</th>\n",
       "      <th>dominant_topic</th>\n",
       "    </tr>\n",
       "  </thead>\n",
       "  <tbody>\n",
       "    <tr>\n",
       "      <th>Doc0</th>\n",
       "      <td>0.02</td>\n",
       "      <td>0.92</td>\n",
       "      <td>0.02</td>\n",
       "      <td>0.02</td>\n",
       "      <td>0.02</td>\n",
       "      <td>1</td>\n",
       "    </tr>\n",
       "    <tr>\n",
       "      <th>Doc1</th>\n",
       "      <td>0.02</td>\n",
       "      <td>0.72</td>\n",
       "      <td>0.22</td>\n",
       "      <td>0.02</td>\n",
       "      <td>0.02</td>\n",
       "      <td>1</td>\n",
       "    </tr>\n",
       "    <tr>\n",
       "      <th>Doc2</th>\n",
       "      <td>0.01</td>\n",
       "      <td>0.62</td>\n",
       "      <td>0.01</td>\n",
       "      <td>0.01</td>\n",
       "      <td>0.36</td>\n",
       "      <td>1</td>\n",
       "    </tr>\n",
       "    <tr>\n",
       "      <th>Doc3</th>\n",
       "      <td>0.01</td>\n",
       "      <td>0.67</td>\n",
       "      <td>0.01</td>\n",
       "      <td>0.01</td>\n",
       "      <td>0.31</td>\n",
       "      <td>1</td>\n",
       "    </tr>\n",
       "    <tr>\n",
       "      <th>Doc4</th>\n",
       "      <td>0.01</td>\n",
       "      <td>0.51</td>\n",
       "      <td>0.01</td>\n",
       "      <td>0.45</td>\n",
       "      <td>0.01</td>\n",
       "      <td>1</td>\n",
       "    </tr>\n",
       "  </tbody>\n",
       "</table>\n",
       "</div>"
      ],
      "text/plain": [
       "      Topic0  Topic1  Topic2  Topic3  Topic4  dominant_topic\n",
       "Doc0    0.02    0.92    0.02    0.02    0.02               1\n",
       "Doc1    0.02    0.72    0.22    0.02    0.02               1\n",
       "Doc2    0.01    0.62    0.01    0.01    0.36               1\n",
       "Doc3    0.01    0.67    0.01    0.01    0.31               1\n",
       "Doc4    0.01    0.51    0.01    0.45    0.01               1"
      ]
     },
     "execution_count": 128,
     "metadata": {},
     "output_type": "execute_result"
    }
   ],
   "source": [
    "# Create Document - Topic Matrix\n",
    "lda_output = best_lda_model.transform(data_vectorized)\n",
    "\n",
    "# column names\n",
    "topicnames = [\"Topic\" + str(i) for i in range(best_lda_model.n_topics)]\n",
    "\n",
    "# index names\n",
    "docnames = [\"Doc\" + str(i) for i in range(len(reviews))]\n",
    "\n",
    "# Make the pandas dataframe\n",
    "df_document_topic = pd.DataFrame(np.round(lda_output, 2), columns=topicnames, index=docnames)\n",
    "\n",
    "# Get dominant topic for each document\n",
    "dominant_topic = np.argmax(df_document_topic.values, axis=1)\n",
    "df_document_topic['dominant_topic'] = dominant_topic\n",
    "\n",
    "df_document_topic.head()"
   ]
  },
  {
   "cell_type": "code",
   "execution_count": 129,
   "metadata": {},
   "outputs": [
    {
     "data": {
      "text/html": [
       "<div>\n",
       "<style scoped>\n",
       "    .dataframe tbody tr th:only-of-type {\n",
       "        vertical-align: middle;\n",
       "    }\n",
       "\n",
       "    .dataframe tbody tr th {\n",
       "        vertical-align: top;\n",
       "    }\n",
       "\n",
       "    .dataframe thead th {\n",
       "        text-align: right;\n",
       "    }\n",
       "</style>\n",
       "<table border=\"1\" class=\"dataframe\">\n",
       "  <thead>\n",
       "    <tr style=\"text-align: right;\">\n",
       "      <th></th>\n",
       "      <th>Topic Num</th>\n",
       "      <th>Num Documents</th>\n",
       "    </tr>\n",
       "  </thead>\n",
       "  <tbody>\n",
       "    <tr>\n",
       "      <th>0</th>\n",
       "      <td>0</td>\n",
       "      <td>73</td>\n",
       "    </tr>\n",
       "    <tr>\n",
       "      <th>1</th>\n",
       "      <td>1</td>\n",
       "      <td>178</td>\n",
       "    </tr>\n",
       "    <tr>\n",
       "      <th>2</th>\n",
       "      <td>2</td>\n",
       "      <td>116</td>\n",
       "    </tr>\n",
       "    <tr>\n",
       "      <th>3</th>\n",
       "      <td>3</td>\n",
       "      <td>79</td>\n",
       "    </tr>\n",
       "    <tr>\n",
       "      <th>4</th>\n",
       "      <td>4</td>\n",
       "      <td>59</td>\n",
       "    </tr>\n",
       "  </tbody>\n",
       "</table>\n",
       "</div>"
      ],
      "text/plain": [
       "   Topic Num  Num Documents\n",
       "0          0             73\n",
       "1          1            178\n",
       "2          2            116\n",
       "3          3             79\n",
       "4          4             59"
      ]
     },
     "execution_count": 129,
     "metadata": {},
     "output_type": "execute_result"
    }
   ],
   "source": [
    "# Review topics distribution across documents\n",
    "df_topic_distribution = df_document_topic['dominant_topic'].value_counts().reset_index(name=\"Num Documents\")\n",
    "df_topic_distribution.columns = ['Topic Num', 'Num Documents']\n",
    "df_topic_distribution.sort_values(by = \"Topic Num\").reset_index(drop=True)"
   ]
  },
  {
   "cell_type": "markdown",
   "metadata": {},
   "source": [
    "### Topic’s keywords\n",
    "\n",
    "The weights of each keyword in each topic is contained in lda_model.components_ as a 2d array. The names of the keywords itself can be obtained from vectorizer object using get_feature_names().\n",
    "\n",
    "Let’s use this info to construct a weight matrix for all keywords in each topic.\n"
   ]
  },
  {
   "cell_type": "code",
   "execution_count": 130,
   "metadata": {},
   "outputs": [
    {
     "data": {
      "text/html": [
       "<div>\n",
       "<style scoped>\n",
       "    .dataframe tbody tr th:only-of-type {\n",
       "        vertical-align: middle;\n",
       "    }\n",
       "\n",
       "    .dataframe tbody tr th {\n",
       "        vertical-align: top;\n",
       "    }\n",
       "\n",
       "    .dataframe thead th {\n",
       "        text-align: right;\n",
       "    }\n",
       "</style>\n",
       "<table border=\"1\" class=\"dataframe\">\n",
       "  <thead>\n",
       "    <tr style=\"text-align: right;\">\n",
       "      <th></th>\n",
       "      <th>aaron</th>\n",
       "      <th>absolutely</th>\n",
       "      <th>accept</th>\n",
       "      <th>accurate</th>\n",
       "      <th>across</th>\n",
       "      <th>additional</th>\n",
       "      <th>almost</th>\n",
       "      <th>along</th>\n",
       "      <th>already</th>\n",
       "      <th>always</th>\n",
       "      <th>...</th>\n",
       "      <th>week</th>\n",
       "      <th>whole</th>\n",
       "      <th>within</th>\n",
       "      <th>without</th>\n",
       "      <th>wonderful</th>\n",
       "      <th>work</th>\n",
       "      <th>working</th>\n",
       "      <th>works</th>\n",
       "      <th>would</th>\n",
       "      <th>years</th>\n",
       "    </tr>\n",
       "  </thead>\n",
       "  <tbody>\n",
       "    <tr>\n",
       "      <th>Topic0</th>\n",
       "      <td>0.200457</td>\n",
       "      <td>8.007063</td>\n",
       "      <td>0.201380</td>\n",
       "      <td>2.208228</td>\n",
       "      <td>0.207312</td>\n",
       "      <td>7.961624</td>\n",
       "      <td>0.201539</td>\n",
       "      <td>0.200007</td>\n",
       "      <td>5.201829</td>\n",
       "      <td>3.776702</td>\n",
       "      <td>...</td>\n",
       "      <td>28.931397</td>\n",
       "      <td>2.370740</td>\n",
       "      <td>24.474847</td>\n",
       "      <td>7.183146</td>\n",
       "      <td>3.412211</td>\n",
       "      <td>6.667327</td>\n",
       "      <td>5.556275</td>\n",
       "      <td>0.201634</td>\n",
       "      <td>70.659971</td>\n",
       "      <td>0.205674</td>\n",
       "    </tr>\n",
       "    <tr>\n",
       "      <th>Topic1</th>\n",
       "      <td>0.200486</td>\n",
       "      <td>0.213080</td>\n",
       "      <td>0.200658</td>\n",
       "      <td>5.995537</td>\n",
       "      <td>0.204387</td>\n",
       "      <td>0.200188</td>\n",
       "      <td>0.203024</td>\n",
       "      <td>4.567683</td>\n",
       "      <td>0.202286</td>\n",
       "      <td>36.652626</td>\n",
       "      <td>...</td>\n",
       "      <td>0.200240</td>\n",
       "      <td>12.663804</td>\n",
       "      <td>0.202676</td>\n",
       "      <td>1.696047</td>\n",
       "      <td>0.202441</td>\n",
       "      <td>47.186264</td>\n",
       "      <td>17.319838</td>\n",
       "      <td>6.117754</td>\n",
       "      <td>48.670314</td>\n",
       "      <td>22.274143</td>\n",
       "    </tr>\n",
       "    <tr>\n",
       "      <th>Topic2</th>\n",
       "      <td>0.202211</td>\n",
       "      <td>2.184542</td>\n",
       "      <td>0.202055</td>\n",
       "      <td>0.201279</td>\n",
       "      <td>6.114880</td>\n",
       "      <td>2.647441</td>\n",
       "      <td>12.231064</td>\n",
       "      <td>6.253227</td>\n",
       "      <td>1.335002</td>\n",
       "      <td>19.813584</td>\n",
       "      <td>...</td>\n",
       "      <td>10.541394</td>\n",
       "      <td>3.323063</td>\n",
       "      <td>0.201035</td>\n",
       "      <td>11.701229</td>\n",
       "      <td>0.221126</td>\n",
       "      <td>2.835932</td>\n",
       "      <td>20.796072</td>\n",
       "      <td>5.273562</td>\n",
       "      <td>67.328814</td>\n",
       "      <td>10.192163</td>\n",
       "    </tr>\n",
       "    <tr>\n",
       "      <th>Topic3</th>\n",
       "      <td>17.203149</td>\n",
       "      <td>3.393692</td>\n",
       "      <td>5.195397</td>\n",
       "      <td>0.202310</td>\n",
       "      <td>7.267362</td>\n",
       "      <td>0.200724</td>\n",
       "      <td>2.948036</td>\n",
       "      <td>3.872484</td>\n",
       "      <td>4.199973</td>\n",
       "      <td>4.504941</td>\n",
       "      <td>...</td>\n",
       "      <td>9.372016</td>\n",
       "      <td>0.203373</td>\n",
       "      <td>0.203048</td>\n",
       "      <td>0.200469</td>\n",
       "      <td>3.748821</td>\n",
       "      <td>15.746773</td>\n",
       "      <td>24.518883</td>\n",
       "      <td>0.204780</td>\n",
       "      <td>33.415543</td>\n",
       "      <td>10.472256</td>\n",
       "    </tr>\n",
       "    <tr>\n",
       "      <th>Topic4</th>\n",
       "      <td>6.193697</td>\n",
       "      <td>0.201623</td>\n",
       "      <td>5.200510</td>\n",
       "      <td>2.392645</td>\n",
       "      <td>0.206059</td>\n",
       "      <td>5.990024</td>\n",
       "      <td>3.416337</td>\n",
       "      <td>2.106599</td>\n",
       "      <td>4.060910</td>\n",
       "      <td>23.252147</td>\n",
       "      <td>...</td>\n",
       "      <td>13.954953</td>\n",
       "      <td>3.439020</td>\n",
       "      <td>2.918394</td>\n",
       "      <td>9.219109</td>\n",
       "      <td>7.415402</td>\n",
       "      <td>11.563704</td>\n",
       "      <td>8.808932</td>\n",
       "      <td>0.202270</td>\n",
       "      <td>43.925358</td>\n",
       "      <td>3.855764</td>\n",
       "    </tr>\n",
       "  </tbody>\n",
       "</table>\n",
       "<p>5 rows × 278 columns</p>\n",
       "</div>"
      ],
      "text/plain": [
       "            aaron  absolutely    accept  accurate    across  additional  \\\n",
       "Topic0   0.200457    8.007063  0.201380  2.208228  0.207312    7.961624   \n",
       "Topic1   0.200486    0.213080  0.200658  5.995537  0.204387    0.200188   \n",
       "Topic2   0.202211    2.184542  0.202055  0.201279  6.114880    2.647441   \n",
       "Topic3  17.203149    3.393692  5.195397  0.202310  7.267362    0.200724   \n",
       "Topic4   6.193697    0.201623  5.200510  2.392645  0.206059    5.990024   \n",
       "\n",
       "           almost     along   already     always  ...       week      whole  \\\n",
       "Topic0   0.201539  0.200007  5.201829   3.776702  ...  28.931397   2.370740   \n",
       "Topic1   0.203024  4.567683  0.202286  36.652626  ...   0.200240  12.663804   \n",
       "Topic2  12.231064  6.253227  1.335002  19.813584  ...  10.541394   3.323063   \n",
       "Topic3   2.948036  3.872484  4.199973   4.504941  ...   9.372016   0.203373   \n",
       "Topic4   3.416337  2.106599  4.060910  23.252147  ...  13.954953   3.439020   \n",
       "\n",
       "           within    without  wonderful       work    working     works  \\\n",
       "Topic0  24.474847   7.183146   3.412211   6.667327   5.556275  0.201634   \n",
       "Topic1   0.202676   1.696047   0.202441  47.186264  17.319838  6.117754   \n",
       "Topic2   0.201035  11.701229   0.221126   2.835932  20.796072  5.273562   \n",
       "Topic3   0.203048   0.200469   3.748821  15.746773  24.518883  0.204780   \n",
       "Topic4   2.918394   9.219109   7.415402  11.563704   8.808932  0.202270   \n",
       "\n",
       "            would      years  \n",
       "Topic0  70.659971   0.205674  \n",
       "Topic1  48.670314  22.274143  \n",
       "Topic2  67.328814  10.192163  \n",
       "Topic3  33.415543  10.472256  \n",
       "Topic4  43.925358   3.855764  \n",
       "\n",
       "[5 rows x 278 columns]"
      ]
     },
     "execution_count": 130,
     "metadata": {},
     "output_type": "execute_result"
    }
   ],
   "source": [
    "# Topic-Keyword Matrix\n",
    "df_topic_keywords = pd.DataFrame(best_lda_model.components_)\n",
    "\n",
    "# Assign Column and Index\n",
    "df_topic_keywords.columns = vectorizer.get_feature_names()\n",
    "df_topic_keywords.index = topicnames\n",
    "\n",
    "# View\n",
    "df_topic_keywords"
   ]
  },
  {
   "cell_type": "markdown",
   "metadata": {},
   "source": [
    "### Get the top 15 keywords each topic\n",
    "\n",
    "From the above output, I want to see the top 15 keywords that are representative of the topic.\n",
    "\n",
    "The show_topics() defined below creates that.\n"
   ]
  },
  {
   "cell_type": "code",
   "execution_count": 131,
   "metadata": {},
   "outputs": [
    {
     "data": {
      "text/html": [
       "<div>\n",
       "<style scoped>\n",
       "    .dataframe tbody tr th:only-of-type {\n",
       "        vertical-align: middle;\n",
       "    }\n",
       "\n",
       "    .dataframe tbody tr th {\n",
       "        vertical-align: top;\n",
       "    }\n",
       "\n",
       "    .dataframe thead th {\n",
       "        text-align: right;\n",
       "    }\n",
       "</style>\n",
       "<table border=\"1\" class=\"dataframe\">\n",
       "  <thead>\n",
       "    <tr style=\"text-align: right;\">\n",
       "      <th></th>\n",
       "      <th>Word 0</th>\n",
       "      <th>Word 1</th>\n",
       "      <th>Word 2</th>\n",
       "      <th>Word 3</th>\n",
       "      <th>Word 4</th>\n",
       "      <th>Word 5</th>\n",
       "      <th>Word 6</th>\n",
       "      <th>Word 7</th>\n",
       "      <th>Word 8</th>\n",
       "      <th>Word 9</th>\n",
       "      <th>Word 10</th>\n",
       "      <th>Word 11</th>\n",
       "      <th>Word 12</th>\n",
       "      <th>Word 13</th>\n",
       "      <th>Word 14</th>\n",
       "    </tr>\n",
       "  </thead>\n",
       "  <tbody>\n",
       "    <tr>\n",
       "      <th>Topic 0</th>\n",
       "      <td>would</td>\n",
       "      <td>process</td>\n",
       "      <td>mortgage</td>\n",
       "      <td>close</td>\n",
       "      <td>refinance</td>\n",
       "      <td>happy</td>\n",
       "      <td>question</td>\n",
       "      <td>week</td>\n",
       "      <td>every</td>\n",
       "      <td>company</td>\n",
       "      <td>amaze</td>\n",
       "      <td>several</td>\n",
       "      <td>within</td>\n",
       "      <td>recommend</td>\n",
       "      <td>experience</td>\n",
       "    </tr>\n",
       "    <tr>\n",
       "      <th>Topic 1</th>\n",
       "      <td>process</td>\n",
       "      <td>great</td>\n",
       "      <td>recommend</td>\n",
       "      <td>mortgage</td>\n",
       "      <td>question</td>\n",
       "      <td>knowledgeable</td>\n",
       "      <td>would</td>\n",
       "      <td>work</td>\n",
       "      <td>answer</td>\n",
       "      <td>experience</td>\n",
       "      <td>refinance</td>\n",
       "      <td>professional</td>\n",
       "      <td>everything</td>\n",
       "      <td>responsive</td>\n",
       "      <td>always</td>\n",
       "    </tr>\n",
       "    <tr>\n",
       "      <th>Topic 2</th>\n",
       "      <td>would</td>\n",
       "      <td>email</td>\n",
       "      <td>company</td>\n",
       "      <td>call</td>\n",
       "      <td>mortgage</td>\n",
       "      <td>lender</td>\n",
       "      <td>service</td>\n",
       "      <td>customer</td>\n",
       "      <td>experience</td>\n",
       "      <td>never</td>\n",
       "      <td>phone</td>\n",
       "      <td>refinance</td>\n",
       "      <td>response</td>\n",
       "      <td>appraisal</td>\n",
       "      <td>receive</td>\n",
       "    </tr>\n",
       "    <tr>\n",
       "      <th>Topic 3</th>\n",
       "      <td>recommend</td>\n",
       "      <td>close</td>\n",
       "      <td>first</td>\n",
       "      <td>would</td>\n",
       "      <td>lender</td>\n",
       "      <td>service</td>\n",
       "      <td>highly</td>\n",
       "      <td>closing</td>\n",
       "      <td>house</td>\n",
       "      <td>working</td>\n",
       "      <td>everything</td>\n",
       "      <td>need</td>\n",
       "      <td>buying</td>\n",
       "      <td>experience</td>\n",
       "      <td>thanks</td>\n",
       "    </tr>\n",
       "    <tr>\n",
       "      <th>Topic 4</th>\n",
       "      <td>closing</td>\n",
       "      <td>could</td>\n",
       "      <td>would</td>\n",
       "      <td>always</td>\n",
       "      <td>recommend</td>\n",
       "      <td>check</td>\n",
       "      <td>close</td>\n",
       "      <td>later</td>\n",
       "      <td>loan</td>\n",
       "      <td>decision</td>\n",
       "      <td>need</td>\n",
       "      <td>understand</td>\n",
       "      <td>every</td>\n",
       "      <td>steve</td>\n",
       "      <td>found</td>\n",
       "    </tr>\n",
       "  </tbody>\n",
       "</table>\n",
       "</div>"
      ],
      "text/plain": [
       "            Word 0   Word 1     Word 2    Word 3     Word 4         Word 5  \\\n",
       "Topic 0      would  process   mortgage     close  refinance          happy   \n",
       "Topic 1    process    great  recommend  mortgage   question  knowledgeable   \n",
       "Topic 2      would    email    company      call   mortgage         lender   \n",
       "Topic 3  recommend    close      first     would     lender        service   \n",
       "Topic 4    closing    could      would    always  recommend          check   \n",
       "\n",
       "           Word 6    Word 7      Word 8      Word 9     Word 10       Word 11  \\\n",
       "Topic 0  question      week       every     company       amaze       several   \n",
       "Topic 1     would      work      answer  experience   refinance  professional   \n",
       "Topic 2   service  customer  experience       never       phone     refinance   \n",
       "Topic 3    highly   closing       house     working  everything          need   \n",
       "Topic 4     close     later        loan    decision        need    understand   \n",
       "\n",
       "            Word 12     Word 13     Word 14  \n",
       "Topic 0      within   recommend  experience  \n",
       "Topic 1  everything  responsive      always  \n",
       "Topic 2    response   appraisal     receive  \n",
       "Topic 3      buying  experience      thanks  \n",
       "Topic 4       every       steve       found  "
      ]
     },
     "execution_count": 131,
     "metadata": {},
     "output_type": "execute_result"
    }
   ],
   "source": [
    "# Show top n keywords for each topic\n",
    "def show_topics(vectorizer=vectorizer, lda_model=lda_model, n_words=20):\n",
    "    keywords = np.array(vectorizer.get_feature_names())\n",
    "    topic_keywords = []\n",
    "    for topic_weights in lda_model.components_:\n",
    "        top_keyword_locs = (-topic_weights).argsort()[:n_words]\n",
    "        topic_keywords.append(keywords.take(top_keyword_locs))\n",
    "    return topic_keywords\n",
    "\n",
    "topic_keywords = show_topics(vectorizer=vectorizer, lda_model=best_lda_model, n_words=15)        \n",
    "\n",
    "# Topic - Keywords Dataframe\n",
    "df_topic_keywords = pd.DataFrame(topic_keywords)\n",
    "df_topic_keywords.columns = ['Word '+str(i) for i in range(df_topic_keywords.shape[1])]\n",
    "df_topic_keywords.index = ['Topic '+str(i) for i in range(df_topic_keywords.shape[0])]\n",
    "df_topic_keywords"
   ]
  },
  {
   "cell_type": "markdown",
   "metadata": {},
   "source": [
    "### Predict the topics for a new piece of text\n",
    "\n",
    "The order of transformations is:\n",
    "\n",
    "sent_to_words() –> lemmatization() –> vectorizer.transform() –> best_lda_model.transform()\n",
    "\n"
   ]
  },
  {
   "cell_type": "code",
   "execution_count": 69,
   "metadata": {},
   "outputs": [
    {
     "name": "stdout",
     "output_type": "stream",
     "text": [
      "['max', 'file', 'window', 'use', 'program', 'image', 'version', 'available', 'color', 'run', 'server', 'graphic', 'bit', 'display', 'include']\n"
     ]
    }
   ],
   "source": [
    "# Define function to predict topic for a given text document.\n",
    "nlp = spacy.load('en_core_web_sm', disable=['parser', 'ner'])\n",
    "\n",
    "def predict_topic(text, nlp=nlp):\n",
    "    global sent_to_words\n",
    "    global lemmatization\n",
    "\n",
    "    # Step 1: Clean with simple_preprocess\n",
    "    mytext_2 = list(sent_to_words(text))\n",
    "\n",
    "    # Step 2: Lemmatize\n",
    "    mytext_3 = lemmatization(mytext_2, allowed_postags=['NOUN', 'ADJ', 'VERB', 'ADV'])\n",
    "\n",
    "    # Step 3: Vectorize transform\n",
    "    mytext_4 = vectorizer.transform(mytext_3)\n",
    "\n",
    "    # Step 4: LDA Transform\n",
    "    topic_probability_scores = best_lda_model.transform(mytext_4)\n",
    "    topic = df_topic_keywords.iloc[np.argmax(topic_probability_scores), :].values.tolist()\n",
    "    return topic, topic_probability_scores\n",
    "\n",
    "# Predict the topic\n",
    "mytext = [\"Windows 10 is amazing\"]\n",
    "topic, prob_scores = predict_topic(text = mytext)\n",
    "print(topic)"
   ]
  },
  {
   "cell_type": "markdown",
   "metadata": {},
   "source": [
    "### Model Visulaization"
   ]
  },
  {
   "cell_type": "code",
   "execution_count": 134,
   "metadata": {},
   "outputs": [
    {
     "name": "stderr",
     "output_type": "stream",
     "text": [
      "C:\\anaconda3old\\lib\\site-packages\\pyLDAvis\\_prepare.py:257: FutureWarning: Sorting because non-concatenation axis is not aligned. A future version\n",
      "of pandas will change to not sort by default.\n",
      "\n",
      "To accept the future behavior, pass 'sort=False'.\n",
      "\n",
      "To retain the current behavior and silence the warning, pass 'sort=True'.\n",
      "\n",
      "  return pd.concat([default_term_info] + list(topic_dfs))\n"
     ]
    }
   ],
   "source": [
    "# for LDA visulization\n",
    "import pyLDAvis\n",
    "import pyLDAvis.sklearn\n",
    "\n",
    "pyLDAvis.enable_notebook()\n",
    "panel = pyLDAvis.sklearn.prepare(best_lda_model, data_vectorized, vectorizer, mds='tsne')\n",
    "# panel"
   ]
  },
  {
   "cell_type": "code",
   "execution_count": null,
   "metadata": {},
   "outputs": [],
   "source": []
  },
  {
   "cell_type": "markdown",
   "metadata": {},
   "source": [
    "## Latent Semantic Analysis (LSA)\n",
    "https://www.analyticsvidhya.com/blog/2018/10/stepwise-guide-topic-modeling-latent-semantic-analysis/"
   ]
  },
  {
   "cell_type": "code",
   "execution_count": 70,
   "metadata": {},
   "outputs": [
    {
     "data": {
      "text/plain": [
       "(505, 1000)"
      ]
     },
     "execution_count": 70,
     "metadata": {},
     "output_type": "execute_result"
    }
   ],
   "source": [
    "# removing everything except alphabets`\n",
    "clean_doc = reviews.str.replace(\"[^a-zA-Z#]\", \" \")\n",
    "\n",
    "# removing short words\n",
    "clean_doc = clean_doc.apply(lambda x: ' '.join([w for w in x.split() if len(w)>3]))\n",
    "\n",
    "# make all text lowercase\n",
    "clean_doc = clean_doc.apply(lambda x: x.lower())\n",
    "\n",
    "# tokenization\n",
    "tokenized_doc = clean_doc.apply(lambda x: x.split())\n",
    "\n",
    "# remove stop-words\n",
    "from nltk.corpus import stopwords\n",
    "\n",
    "stop_words = stopwords.words('english')\n",
    "tokenized_doc = tokenized_doc.apply(lambda x: [item for item in x if item not in stop_words])\n",
    "\n",
    "# de-tokenization\n",
    "detokenized_doc = []\n",
    "for i in range(len(reviews)):\n",
    "    t = ' '.join(tokenized_doc[i])\n",
    "    detokenized_doc.append(t)\n",
    "\n",
    "# news_df['clean_doc'] = detokenized_doc\n",
    "\n",
    "#Document-Term Matrix\n",
    "vectorizer = TfidfVectorizer(stop_words='english', \n",
    "                             max_features= 1000, # keep top 1000 terms \n",
    "                             max_df = 0.5, \n",
    "                             smooth_idf=True)\n",
    "\n",
    "X = vectorizer.fit_transform(detokenized_doc)\n",
    "\n",
    "X.shape # check shape of the document-term matrix"
   ]
  },
  {
   "cell_type": "code",
   "execution_count": 72,
   "metadata": {},
   "outputs": [
    {
     "data": {
      "text/plain": [
       "(505, 1000)"
      ]
     },
     "execution_count": 72,
     "metadata": {},
     "output_type": "execute_result"
    }
   ],
   "source": [
    "X.shape"
   ]
  },
  {
   "cell_type": "markdown",
   "metadata": {},
   "source": [
    "### Topic Modeling\n",
    "The next step is to represent each and every term and document as a vector. We will use the document-term matrix and decompose it into multiple matrices. We will use sklearn’s TruncatedSVD to perform the task of matrix decomposition."
   ]
  },
  {
   "cell_type": "code",
   "execution_count": 75,
   "metadata": {},
   "outputs": [
    {
     "data": {
      "text/plain": [
       "5"
      ]
     },
     "execution_count": 75,
     "metadata": {},
     "output_type": "execute_result"
    }
   ],
   "source": [
    "from sklearn.decomposition import TruncatedSVD\n",
    "\n",
    "# SVD represent documents and terms in vectors \n",
    "svd_model = TruncatedSVD(n_components=5, algorithm='randomized', n_iter=100, random_state=122)\n",
    "\n",
    "svd_model.fit(X)\n",
    "\n",
    "len(svd_model.components_)"
   ]
  },
  {
   "cell_type": "markdown",
   "metadata": {},
   "source": [
    "The components of svd_model are our topics, and we can access them using svd_model.components_. Finally, let’s print a few most important words in each of the 20 topics and see how our model has done.\n"
   ]
  },
  {
   "cell_type": "code",
   "execution_count": 76,
   "metadata": {},
   "outputs": [
    {
     "name": "stdout",
     "output_type": "stream",
     "text": [
      "Topic 0: \n",
      "process\n",
      " \n",
      "loan\n",
      " \n",
      "great\n",
      " \n",
      "home\n",
      " \n",
      "time\n",
      " \n",
      "recommend\n",
      " \n",
      "work\n",
      " \n",
      "Topic 1: \n",
      "great\n",
      " \n",
      "easy\n",
      " \n",
      "service\n",
      " \n",
      "work\n",
      " \n",
      "responsive\n",
      " \n",
      "helpful\n",
      " \n",
      "questions\n",
      " \n",
      "Topic 2: \n",
      "service\n",
      " \n",
      "helpful\n",
      " \n",
      "customer\n",
      " \n",
      "great\n",
      " \n",
      "loan\n",
      " \n",
      "mortgage\n",
      " \n",
      "people\n",
      " \n",
      "Topic 3: \n",
      "great\n",
      " \n",
      "alex\n",
      " \n",
      "work\n",
      " \n",
      "lender\n",
      " \n",
      "closing\n",
      " \n",
      "pleasure\n",
      " \n",
      "bank\n",
      " \n",
      "Topic 4: \n",
      "alex\n",
      " \n",
      "mortgage\n",
      " \n",
      "nasb\n",
      " \n",
      "working\n",
      " \n",
      "entire\n",
      " \n",
      "madewell\n",
      " \n",
      "looking\n",
      " \n"
     ]
    }
   ],
   "source": [
    "terms = vectorizer.get_feature_names()\n",
    "\n",
    "for i, comp in enumerate(svd_model.components_):\n",
    "    terms_comp = zip(terms, comp)\n",
    "    sorted_terms = sorted(terms_comp, key= lambda x:x[1], reverse=True)[:7]\n",
    "    print(\"Topic \"+str(i)+\": \")\n",
    "    for t in sorted_terms:\n",
    "        print(t[0])\n",
    "        print(\" \")"
   ]
  },
  {
   "cell_type": "code",
   "execution_count": 105,
   "metadata": {},
   "outputs": [
    {
     "name": "stdout",
     "output_type": "stream",
     "text": [
      "Topic 0: \n",
      "process\n",
      " \n",
      "loan\n",
      " \n",
      "great\n",
      " \n",
      "home\n",
      " \n",
      "time\n",
      " \n",
      "recommend\n",
      " \n",
      "work\n",
      " \n",
      "Topic 1: \n",
      "great\n",
      " \n",
      "easy\n",
      " \n",
      "service\n",
      " \n",
      "work\n",
      " \n",
      "responsive\n",
      " \n",
      "helpful\n",
      " \n",
      "questions\n",
      " \n",
      "Topic 2: \n",
      "service\n",
      " \n",
      "helpful\n",
      " \n",
      "customer\n",
      " \n",
      "great\n",
      " \n",
      "loan\n",
      " \n",
      "mortgage\n",
      " \n",
      "people\n",
      " \n",
      "Topic 3: \n",
      "great\n",
      " \n",
      "alex\n",
      " \n",
      "work\n",
      " \n",
      "lender\n",
      " \n",
      "closing\n",
      " \n",
      "pleasure\n",
      " \n",
      "bank\n",
      " \n",
      "Topic 4: \n",
      "alex\n",
      " \n",
      "mortgage\n",
      " \n",
      "nasb\n",
      " \n",
      "working\n",
      " \n",
      "entire\n",
      " \n",
      "madewell\n",
      " \n",
      "looking\n",
      " \n"
     ]
    }
   ],
   "source": [
    "terms = vectorizer.get_feature_names()\n",
    "\n",
    "for i, comp in enumerate(svd_model.components_):\n",
    "    terms_comp = zip(terms, comp)\n",
    "    sorted_terms = sorted(terms_comp, key= lambda x:x[1], reverse=True)[:7]\n",
    "    print(\"Topic \"+str(i)+\": \")\n",
    "    for t in sorted_terms:\n",
    "        print(t[0])\n",
    "        print(\" \")\n",
    "        \n",
    "# sorted_terms"
   ]
  },
  {
   "cell_type": "markdown",
   "metadata": {},
   "source": [
    "### Topics Visualization\n",
    "To find out how distinct our topics are, we should visualize them. Of course, we cannot visualize more than 3 dimensions, but there are techniques like PCA and t-SNE which can help us visualize high dimensional data into lower dimensions. Here we will use a relatively new technique called UMAP (Uniform Manifold Approximation and Projection).\n"
   ]
  },
  {
   "cell_type": "code",
   "execution_count": 91,
   "metadata": {},
   "outputs": [
    {
     "data": {
      "text/plain": [
       "array(['Wyndham Capital Mortgage', 'North American Savings Bank',\n",
       "       'Reliance First Capital', 'Pacific Beneficial Mortgage Co',\n",
       "       'Triumph Lending', 'LoanSnap', 'Guarenteed Rate Inc'], dtype=object)"
      ]
     },
     "execution_count": 91,
     "metadata": {},
     "output_type": "execute_result"
    }
   ],
   "source": [
    "bank.BankName.unique()"
   ]
  },
  {
   "cell_type": "code",
   "execution_count": 93,
   "metadata": {},
   "outputs": [],
   "source": [
    "from numpy import where as IF\n",
    "bank['BankName_code'] =  IF(bank.BankName == 'Wyndham Capital Mortgage',0,\n",
    "            IF(bank.BankName == 'North American Savings Bank',1,\n",
    "            IF(bank.BankName == 'Reliance First Capital',2,\n",
    "            IF(bank.BankName == 'Pacific Beneficial Mortgage Co',3,\n",
    "            IF(bank.BankName == 'Triumph Lending',4,\n",
    "            IF(bank.BankName == 'LoanSnap',5,6))))))\n"
   ]
  },
  {
   "cell_type": "code",
   "execution_count": 97,
   "metadata": {},
   "outputs": [
    {
     "data": {
      "image/png": "[encoded data removed]",
      "text/plain": [
       "<Figure size 504x360 with 1 Axes>"
      ]
     },
     "metadata": {
      "needs_background": "light"
     },
     "output_type": "display_data"
    }
   ],
   "source": [
    "import umap\n",
    "\n",
    "# X_topics = svd_model.fit_transform(X)\n",
    "# embedding = umap.UMAP(n_neighbors=150, min_dist=0.5, random_state=12).fit_transform(X_topics)\n",
    "\n",
    "plt.figure(figsize=(7,5))\n",
    "plt.scatter(embedding[:, 0], embedding[:, 1], c = bank.BankName_code, s = 20, edgecolor='none' )\n",
    "plt.show()\n",
    "#size\n",
    "\n",
    "# # c = \n",
    "# bank.BankName.unique()\n",
    "# , s = 10,\n"
   ]
  },
  {
   "cell_type": "markdown",
   "metadata": {},
   "source": [
    "### Pros and Cons of LSA\n",
    "Latent Semantic Analysis can be very useful as we saw above, but it does have its limitations. It’s important to understand both the sides of LSA so you have an idea of when to leverage it and when to try something else.\n",
    "\n",
    "### Pros:\n",
    "\n",
    "LSA is fast and easy to implement.\n",
    "It gives decent results, much better than a plain vector space model.\n",
    "\n",
    "### Cons:\n",
    "\n",
    "Since it is a linear model, it might not do well on datasets with non-linear dependencies.\n",
    "LSA assumes a Gaussian distribution of the terms in the documents, which may not be true for all problems.\n",
    "LSA involves SVD, which is computationally intensive and hard to update as new data comes up."
   ]
  },
  {
   "cell_type": "markdown",
   "metadata": {},
   "source": [
    "### Tips to improve results of topic modeling\n",
    "The results of topic models are completely dependent on the features (terms) present in the corpus. The corpus is represented as document term matrix, which in general is very sparse in nature. Reducing the dimensionality of the matrix can improve the results of topic modelling. Based on my practical experience, there are few approaches which do the trick.\n",
    "\n",
    "1. Frequency Filter – Arrange every term according to its frequency. Terms with higher frequencies are more likely to appear in the results as compared ones with low frequency. The low frequency terms are essentially weak features of the corpus, hence it is a good practice to get rid of all those weak features. An exploratory analysis of terms and their frequency can help to decide what frequency value should be considered as the threshold.\n",
    "\n",
    "https://www.analyticsvidhya.com/blog/2016/08/beginners-guide-to-topic-modeling-in-python/\n",
    "\n",
    "2. Part of Speech Tag Filter – POS tag filter is more about the context of the features than frequencies of features. Topic Modelling tries to map out the recurring patterns of terms into topics. However, every term might not be equally important contextually. For example, POS tag IN contain terms such as – “within”, “upon”, “except”. “CD” contains – “one”,”two”, “hundred” etc. “MD” contains “may”, “must” etc. These terms are the supporting words of a language and can be removed by studying their post tags.\n",
    "\n",
    "\n",
    "3. Batch Wise LDA –In order to retrieve most important topic terms, a corpus can be divided into batches of fixed sizes. Running LDA multiple times on these batches will provide different results, however, the best topic terms will be the intersection of all batches."
   ]
  },
  {
   "cell_type": "markdown",
   "metadata": {},
   "source": [
    "# Cluster Analysis"
   ]
  },
  {
   "cell_type": "markdown",
   "metadata": {},
   "source": [
    "## Data Preparation"
   ]
  },
  {
   "cell_type": "code",
   "execution_count": 56,
   "metadata": {
    "ExecuteTime": {
     "end_time": "2019-08-06T10:27:14.146190Z",
     "start_time": "2019-08-06T10:27:13.777875Z"
    }
   },
   "outputs": [],
   "source": [
    "# spacy.load('en')\n",
    "from spacy.lang.en import English\n",
    "parser = English()\n",
    "\n",
    "def tokenize(text):\n",
    "    lda_tokens = []\n",
    "    tokens = parser(text)\n",
    "    for token in tokens:\n",
    "        if token.orth_.isspace():\n",
    "            continue\n",
    "        elif token.like_url:\n",
    "            lda_tokens.append('URL')\n",
    "        elif token.orth_.startswith('@'):\n",
    "            lda_tokens.append('SCREEN_NAME')\n",
    "        else:\n",
    "            lda_tokens.append(token.lower_)\n",
    "    return lda_tokens\n",
    "\n",
    "\n",
    "# nltk.download('wordnet')\n",
    "from nltk.corpus import wordnet as wn\n",
    "def get_lemma(word):\n",
    "    lemma = wn.morphy(word)\n",
    "    if lemma is None:\n",
    "        return word\n",
    "    else:\n",
    "        return lemma\n",
    "    \n",
    "from nltk.stem.wordnet import WordNetLemmatizer\n",
    "def get_lemma2(word):\n",
    "    return WordNetLemmatizer().lemmatize(word)\n",
    "\n",
    "en_stop = set(nltk.corpus.stopwords.words('english'))\n",
    "\n",
    "def prepare_text_for_lda(text):\n",
    "    tokens = tokenize(text)\n",
    "    tokens = [token for token in tokens if len(token) > 4]\n",
    "    tokens = [token for token in tokens if token not in en_stop]\n",
    "    tokens = [get_lemma(token) for token in tokens]\n",
    "    return tokens\n",
    "\n",
    "\n",
    "\n",
    "text_data = []\n",
    "for review in reviews:\n",
    "    tokens = prepare_text_for_lda(review)\n",
    "    text_data.append(tokens)"
   ]
  },
  {
   "cell_type": "markdown",
   "metadata": {},
   "source": [
    "## Bag of words"
   ]
  },
  {
   "cell_type": "code",
   "execution_count": 58,
   "metadata": {
    "ExecuteTime": {
     "end_time": "2019-08-06T10:27:20.551484Z",
     "start_time": "2019-08-06T10:27:20.529491Z"
    }
   },
   "outputs": [],
   "source": [
    "bag_of_words = []\n",
    "for review in text_data:\n",
    "    for word in review:\n",
    "        bag_of_words.append(word)\n",
    "\n",
    "bag_of_words = set(bag_of_words)\n",
    "\n",
    "from gensim import corpora\n",
    "dictionary = corpora.Dictionary(text_data)\n",
    "corpus = [dictionary.doc2bow(text) for text in text_data]"
   ]
  },
  {
   "cell_type": "code",
   "execution_count": 86,
   "metadata": {
    "ExecuteTime": {
     "end_time": "2019-08-06T10:52:18.311272Z",
     "start_time": "2019-08-06T10:52:17.701618Z"
    }
   },
   "outputs": [],
   "source": [
    "# dict.fromkeys(bag_of_words,0)\n",
    "data = []\n",
    "for i in range(len(text_data)):\n",
    "    word_dict = dict.fromkeys(bag_of_words, 0)\n",
    "    data.append(word_dict)\n",
    "    \n",
    "for i in range(len(text_data)):\n",
    "    for word in text_data[i]:\n",
    "        data[i][word] +=1"
   ]
  },
  {
   "cell_type": "code",
   "execution_count": 134,
   "metadata": {
    "ExecuteTime": {
     "end_time": "2019-08-06T11:26:14.560281Z",
     "start_time": "2019-08-06T11:26:10.872678Z"
    }
   },
   "outputs": [],
   "source": [
    "df = pd.DataFrame(data)\n",
    "\n",
    "doc_term_matrix = df.as_matrix()"
   ]
  },
  {
   "cell_type": "code",
   "execution_count": 136,
   "metadata": {
    "ExecuteTime": {
     "end_time": "2019-08-06T11:26:19.303094Z",
     "start_time": "2019-08-06T11:26:15.209893Z"
    }
   },
   "outputs": [],
   "source": [
    "#\n",
    "def tfCalcForDoc(doc_term):\n",
    "    docTfMat=[]\n",
    "    totalWordCnt=np.sum(doc_term)\n",
    "    for termCnt in doc_term:\n",
    "        if totalWordCnt != 0:\n",
    "            docTfMat.append(termCnt/totalWordCnt)\n",
    "        else:\n",
    "            docTfMat.append(0)\n",
    "    return docTfMat\n",
    "\n",
    "doc_freq_array = []\n",
    "for doc_term in doc_term_matrix:\n",
    "    doc_freq_array.append(tfCalcForDoc(doc_term))\n",
    "    \n",
    "doc_freq_matrix=np.asmatrix(doc_freq_array)"
   ]
  },
  {
   "cell_type": "code",
   "execution_count": 137,
   "metadata": {
    "ExecuteTime": {
     "end_time": "2019-08-06T11:26:19.346006Z",
     "start_time": "2019-08-06T11:26:19.310026Z"
    }
   },
   "outputs": [
    {
     "data": {
      "text/plain": [
       "matrix([[0., 0., 0., ..., 0., 0., 0.],\n",
       "        [0., 0., 0., ..., 0., 0., 0.],\n",
       "        [0., 0., 0., ..., 0., 0., 0.],\n",
       "        ...,\n",
       "        [0., 0., 0., ..., 0., 0., 0.],\n",
       "        [0., 0., 0., ..., 0., 0., 0.],\n",
       "        [0., 0., 0., ..., 0., 0., 0.]])"
      ]
     },
     "execution_count": 137,
     "metadata": {},
     "output_type": "execute_result"
    }
   ],
   "source": [
    "doc_freq_matrix"
   ]
  },
  {
   "cell_type": "markdown",
   "metadata": {},
   "source": [
    "- **Construct IDF Matrix**\n",
    "\n",
    "To calculate inverse doc freq we again need to transpose the df such that row contains the occurence of each word across corresponding doc in column. Thus we can convert every row to array and calculate the IDF as follows and again contruct the IDF matrix"
   ]
  },
  {
   "cell_type": "markdown",
   "metadata": {},
   "source": [
    "    IDF(t) = log_e(Total number of documents / Number of documents with term t in it)."
   ]
  },
  {
   "cell_type": "code",
   "execution_count": 138,
   "metadata": {
    "ExecuteTime": {
     "end_time": "2019-08-06T11:26:24.571192Z",
     "start_time": "2019-08-06T11:26:24.547212Z"
    }
   },
   "outputs": [],
   "source": [
    "def idfCalcForTerm(term_count_array_across_docs):\n",
    "    # Total number of documents\n",
    "    nr = len(term_count_array_across_docs)\n",
    "    # Number of documents with term t in it\n",
    "    dr = np.count_nonzero(term_count_array_across_docs)\n",
    "    \n",
    "    if dr != 0:\n",
    "        return np.log10(nr/dr)\n",
    "    else:\n",
    "        return 0"
   ]
  },
  {
   "cell_type": "markdown",
   "metadata": {},
   "source": [
    "- Now calculate the idfValue for every term and store it in a list idfArr"
   ]
  },
  {
   "cell_type": "code",
   "execution_count": 139,
   "metadata": {
    "ExecuteTime": {
     "end_time": "2019-08-06T11:26:28.076605Z",
     "start_time": "2019-08-06T11:26:27.956672Z"
    }
   },
   "outputs": [],
   "source": [
    "arr=np.squeeze(np.asarray(df))\n",
    "idfArr=[]\n",
    "for m in arr:\n",
    "    idfArr.append(idfCalcForTerm(m))"
   ]
  },
  {
   "cell_type": "markdown",
   "metadata": {},
   "source": [
    " - Tf-idf weight is the product of TF and IDF of particular term and calculated as below"
   ]
  },
  {
   "cell_type": "code",
   "execution_count": 142,
   "metadata": {
    "ExecuteTime": {
     "end_time": "2019-08-06T11:26:40.198051Z",
     "start_time": "2019-08-06T11:26:39.995166Z"
    }
   },
   "outputs": [],
   "source": [
    "cnt=0\n",
    "for idfVals in idfArr:\n",
    "    doc_freq_matrix[:,cnt] *= idfVals\n",
    "    cnt+= 1"
   ]
  },
  {
   "cell_type": "code",
   "execution_count": 143,
   "metadata": {
    "ExecuteTime": {
     "end_time": "2019-08-06T11:26:43.159426Z",
     "start_time": "2019-08-06T11:26:43.142435Z"
    }
   },
   "outputs": [
    {
     "data": {
      "text/plain": [
       "(505, 1747)"
      ]
     },
     "execution_count": 143,
     "metadata": {},
     "output_type": "execute_result"
    }
   ],
   "source": [
    "doc_freq_matrix.shape"
   ]
  },
  {
   "cell_type": "code",
   "execution_count": 145,
   "metadata": {
    "ExecuteTime": {
     "end_time": "2019-08-06T11:26:53.790488Z",
     "start_time": "2019-08-06T11:26:53.717529Z"
    }
   },
   "outputs": [],
   "source": [
    "from scipy import sparse\n",
    "tfidf_matrix = sparse.csr_matrix(doc_freq_matrix)"
   ]
  },
  {
   "cell_type": "markdown",
   "metadata": {
    "collapsed": true
   },
   "source": [
    "## Perform K-means clustering for 5 clusters"
   ]
  },
  {
   "cell_type": "code",
   "execution_count": 146,
   "metadata": {
    "ExecuteTime": {
     "end_time": "2019-08-06T11:27:21.912468Z",
     "start_time": "2019-08-06T11:27:15.613274Z"
    }
   },
   "outputs": [
    {
     "name": "stdout",
     "output_type": "stream",
     "text": [
      "Wall time: 6.27 s\n"
     ]
    }
   ],
   "source": [
    "from sklearn.cluster import KMeans\n",
    "num_clusters = 5\n",
    "km = KMeans(n_clusters=num_clusters)\n",
    "%time km.fit(tfidf_matrix)\n",
    "clusters = km.labels_.tolist()"
   ]
  },
  {
   "cell_type": "code",
   "execution_count": 150,
   "metadata": {
    "ExecuteTime": {
     "end_time": "2019-08-06T11:29:08.413893Z",
     "start_time": "2019-08-06T11:29:08.397900Z"
    }
   },
   "outputs": [],
   "source": [
    "docs = df.T.columns\n",
    "\n",
    "print('no. of items clustered '+str(len(clusters)))\n",
    "print('no. of docs '+str(len(docs)))\n",
    "\n",
    "frame=pd.DataFrame(docs , columns=['docName'])\n",
    "\n",
    "# frame.head()\n",
    "\n",
    "frame['clusterid'] = clusters\n",
    "\n",
    "frame.head()"
   ]
  },
  {
   "cell_type": "markdown",
   "metadata": {},
   "source": [
    "- Now calculate the similarity distance by using **cosine similarity.**"
   ]
  },
  {
   "cell_type": "code",
   "execution_count": 156,
   "metadata": {
    "ExecuteTime": {
     "end_time": "2019-08-06T11:31:52.568954Z",
     "start_time": "2019-08-06T11:31:52.170094Z"
    }
   },
   "outputs": [],
   "source": [
    "from sklearn.metrics.pairwise import cosine_similarity\n",
    "dist = 1 - cosine_similarity(tfidf_matrix)"
   ]
  },
  {
   "cell_type": "markdown",
   "metadata": {},
   "source": [
    "Perform Multi Dimensional Scaling"
   ]
  },
  {
   "cell_type": "markdown",
   "metadata": {},
   "source": [
    "## Computing Top N terms per cluster"
   ]
  },
  {
   "cell_type": "markdown",
   "metadata": {},
   "source": [
    "- Here I am taking N=20 and observe by the terms that every cluster has are logically related to the cluster they are present it. For example if we observe cluster 4 it is evident that most of the terms represent the documents contained in it are related to mathematics which is obvious from the terms like theorem, matrix, latent, regression."
   ]
  },
  {
   "cell_type": "code",
   "execution_count": 159,
   "metadata": {
    "ExecuteTime": {
     "end_time": "2019-08-06T11:34:12.493321Z",
     "start_time": "2019-08-06T11:34:12.476329Z"
    }
   },
   "outputs": [],
   "source": [
    "terms = df.columns\n",
    "terms_s = pd.Series(terms)"
   ]
  },
  {
   "cell_type": "code",
   "execution_count": 160,
   "metadata": {
    "ExecuteTime": {
     "end_time": "2019-08-06T11:34:18.753728Z",
     "start_time": "2019-08-06T11:34:15.694496Z"
    }
   },
   "outputs": [
    {
     "name": "stdout",
     "output_type": "stream",
     "text": [
      "Top terms per cluster:\n",
      "\n",
      "Cluster 0: close, always, amaze, customer, answer, process, great, question, service, available, help, professional, recommend, awesome, anyone, helpful, timely, would, thanks, issue,\n",
      "\n",
      "Cluster 1: great, service, customer, lender, buyer, attitude, helpful, experience, responsive, inquiry, first, easily, person, people, mortgage, process, never, work, product, working,\n",
      "\n",
      "Cluster 2: process, closing, would, recommend, company, could, answer, great, close, anyone, mortgage, experience, business, helpful, question, better, service, refinance, customer, work,\n",
      "\n",
      "Cluster 3: accommodate, product, progress, professional, explore, expectation, expense, expensive, experiecne, experience, expert, expertise, expire, explain, explanation, expressly, express, expand, extend, extension,\n",
      "\n",
      "Cluster 4: responsive, informative, surprise, zelada, explore, expectation, expense, expensive, experiecne, experience, expert, expertise, expire, explain, explanation, expressly, express, expand, extend, extension,\n",
      "\n"
     ]
    }
   ],
   "source": [
    "vocab_frame=pd.DataFrame({'words':terms},index=[terms])\n",
    "N=20\n",
    "\n",
    "print(\"Top terms per cluster:\")\n",
    "print()\n",
    "#sort cluster centers by proximity to centroid\n",
    "order_centroids = km.cluster_centers_.argsort()[:, ::-1] \n",
    "\n",
    "for i in range(num_clusters):\n",
    "    print(\"Cluster %d:\" % i, end='')\n",
    "    \n",
    "    for ind in order_centroids[i, :N]: #replace 10 with n words per cluster\n",
    "        print(' %s' % vocab_frame.loc[terms[ind].split(' ')].values.tolist()[0][0], end=',')\n",
    "    print()\n",
    "    print()"
   ]
  },
  {
   "cell_type": "markdown",
   "metadata": {},
   "source": [
    "## Visualization of  Clusters"
   ]
  },
  {
   "cell_type": "code",
   "execution_count": 161,
   "metadata": {
    "ExecuteTime": {
     "end_time": "2019-08-06T11:34:41.707649Z",
     "start_time": "2019-08-06T11:34:41.682661Z"
    }
   },
   "outputs": [],
   "source": [
    "#set up colors per clusters using a dict\n",
    "cluster_colors = {0: '#1b9e77', 1: '#d95f02', 2: '#7570b3', 3: '#e7298a', 4: '#66a61e'}\n",
    "\n",
    "cluster_names={  0: 'cluster 0',\n",
    "                 1: 'cluster 1',\n",
    "                 2: 'cluster 2', \n",
    "                 3: 'cluster 3',\n",
    "                 4: 'cluster 4'}\n",
    "\n",
    "import matplotlib as mpl\n",
    "from sklearn.manifold import MDS\n",
    "MDS()"
   ]
  },
  {
   "cell_type": "markdown",
   "metadata": {},
   "source": [
    "- convert two components as we're plotting points in a two-dimensional plane \"precomputed\" because we provide a distance matrix we will also specify `random_state` so the plot is reproducible."
   ]
  },
  {
   "cell_type": "code",
   "execution_count": 163,
   "metadata": {
    "ExecuteTime": {
     "end_time": "2019-08-06T11:35:00.016245Z",
     "start_time": "2019-08-06T11:34:59.999254Z"
    }
   },
   "outputs": [],
   "source": [
    "mds = MDS(n_components=2, dissimilarity=\"precomputed\", random_state=1)\n",
    "\n",
    "pos = mds.fit_transform(dist)  # shape (n_components, n_samples)\n",
    "\n",
    "xs, ys = pos[:, 0], pos[:, 1]"
   ]
  },
  {
   "cell_type": "code",
   "execution_count": 166,
   "metadata": {
    "ExecuteTime": {
     "end_time": "2019-08-06T11:36:12.886208Z",
     "start_time": "2019-08-06T11:35:56.400373Z"
    },
    "scrolled": false
   },
   "outputs": [
    {
     "name": "stderr",
     "output_type": "stream",
     "text": [
      "C:\\anaconda3old\\lib\\site-packages\\matplotlib\\cbook\\__init__.py:424: MatplotlibDeprecationWarning: \n",
      "Passing one of 'on', 'true', 'off', 'false' as a boolean is deprecated; use an actual boolean (True/False) instead.\n",
      "  warn_deprecated(\"2.2\", \"Passing one of 'on', 'true', 'off', 'false' as a \"\n",
      "C:\\anaconda3old\\lib\\site-packages\\matplotlib\\cbook\\__init__.py:424: MatplotlibDeprecationWarning: \n",
      "Passing one of 'on', 'true', 'off', 'false' as a boolean is deprecated; use an actual boolean (True/False) instead.\n",
      "  warn_deprecated(\"2.2\", \"Passing one of 'on', 'true', 'off', 'false' as a \"\n",
      "C:\\anaconda3old\\lib\\site-packages\\matplotlib\\cbook\\__init__.py:424: MatplotlibDeprecationWarning: \n",
      "Passing one of 'on', 'true', 'off', 'false' as a boolean is deprecated; use an actual boolean (True/False) instead.\n",
      "  warn_deprecated(\"2.2\", \"Passing one of 'on', 'true', 'off', 'false' as a \"\n",
      "C:\\anaconda3old\\lib\\site-packages\\matplotlib\\cbook\\__init__.py:424: MatplotlibDeprecationWarning: \n",
      "Passing one of 'on', 'true', 'off', 'false' as a boolean is deprecated; use an actual boolean (True/False) instead.\n",
      "  warn_deprecated(\"2.2\", \"Passing one of 'on', 'true', 'off', 'false' as a \"\n",
      "C:\\anaconda3old\\lib\\site-packages\\matplotlib\\cbook\\__init__.py:424: MatplotlibDeprecationWarning: \n",
      "Passing one of 'on', 'true', 'off', 'false' as a boolean is deprecated; use an actual boolean (True/False) instead.\n",
      "  warn_deprecated(\"2.2\", \"Passing one of 'on', 'true', 'off', 'false' as a \"\n",
      "C:\\anaconda3old\\lib\\site-packages\\matplotlib\\cbook\\__init__.py:424: MatplotlibDeprecationWarning: \n",
      "Passing one of 'on', 'true', 'off', 'false' as a boolean is deprecated; use an actual boolean (True/False) instead.\n",
      "  warn_deprecated(\"2.2\", \"Passing one of 'on', 'true', 'off', 'false' as a \"\n",
      "C:\\anaconda3old\\lib\\site-packages\\matplotlib\\cbook\\__init__.py:424: MatplotlibDeprecationWarning: \n",
      "Passing one of 'on', 'true', 'off', 'false' as a boolean is deprecated; use an actual boolean (True/False) instead.\n",
      "  warn_deprecated(\"2.2\", \"Passing one of 'on', 'true', 'off', 'false' as a \"\n",
      "C:\\anaconda3old\\lib\\site-packages\\matplotlib\\cbook\\__init__.py:424: MatplotlibDeprecationWarning: \n",
      "Passing one of 'on', 'true', 'off', 'false' as a boolean is deprecated; use an actual boolean (True/False) instead.\n",
      "  warn_deprecated(\"2.2\", \"Passing one of 'on', 'true', 'off', 'false' as a \"\n",
      "C:\\anaconda3old\\lib\\site-packages\\matplotlib\\cbook\\__init__.py:424: MatplotlibDeprecationWarning: \n",
      "Passing one of 'on', 'true', 'off', 'false' as a boolean is deprecated; use an actual boolean (True/False) instead.\n",
      "  warn_deprecated(\"2.2\", \"Passing one of 'on', 'true', 'off', 'false' as a \"\n",
      "C:\\anaconda3old\\lib\\site-packages\\matplotlib\\cbook\\__init__.py:424: MatplotlibDeprecationWarning: \n",
      "Passing one of 'on', 'true', 'off', 'false' as a boolean is deprecated; use an actual boolean (True/False) instead.\n",
      "  warn_deprecated(\"2.2\", \"Passing one of 'on', 'true', 'off', 'false' as a \"\n",
      "C:\\anaconda3old\\lib\\site-packages\\matplotlib\\cbook\\__init__.py:424: MatplotlibDeprecationWarning: \n",
      "Passing one of 'on', 'true', 'off', 'false' as a boolean is deprecated; use an actual boolean (True/False) instead.\n",
      "  warn_deprecated(\"2.2\", \"Passing one of 'on', 'true', 'off', 'false' as a \"\n",
      "C:\\anaconda3old\\lib\\site-packages\\matplotlib\\cbook\\__init__.py:424: MatplotlibDeprecationWarning: \n",
      "Passing one of 'on', 'true', 'off', 'false' as a boolean is deprecated; use an actual boolean (True/False) instead.\n",
      "  warn_deprecated(\"2.2\", \"Passing one of 'on', 'true', 'off', 'false' as a \"\n",
      "C:\\anaconda3old\\lib\\site-packages\\matplotlib\\cbook\\__init__.py:424: MatplotlibDeprecationWarning: \n",
      "Passing one of 'on', 'true', 'off', 'false' as a boolean is deprecated; use an actual boolean (True/False) instead.\n",
      "  warn_deprecated(\"2.2\", \"Passing one of 'on', 'true', 'off', 'false' as a \"\n",
      "C:\\anaconda3old\\lib\\site-packages\\matplotlib\\cbook\\__init__.py:424: MatplotlibDeprecationWarning: \n",
      "Passing one of 'on', 'true', 'off', 'false' as a boolean is deprecated; use an actual boolean (True/False) instead.\n",
      "  warn_deprecated(\"2.2\", \"Passing one of 'on', 'true', 'off', 'false' as a \"\n",
      "C:\\anaconda3old\\lib\\site-packages\\matplotlib\\cbook\\__init__.py:424: MatplotlibDeprecationWarning: \n",
      "Passing one of 'on', 'true', 'off', 'false' as a boolean is deprecated; use an actual boolean (True/False) instead.\n",
      "  warn_deprecated(\"2.2\", \"Passing one of 'on', 'true', 'off', 'false' as a \"\n",
      "C:\\anaconda3old\\lib\\site-packages\\matplotlib\\cbook\\__init__.py:424: MatplotlibDeprecationWarning: \n",
      "Passing one of 'on', 'true', 'off', 'false' as a boolean is deprecated; use an actual boolean (True/False) instead.\n",
      "  warn_deprecated(\"2.2\", \"Passing one of 'on', 'true', 'off', 'false' as a \"\n",
      "C:\\anaconda3old\\lib\\site-packages\\matplotlib\\cbook\\__init__.py:424: MatplotlibDeprecationWarning: \n",
      "Passing one of 'on', 'true', 'off', 'false' as a boolean is deprecated; use an actual boolean (True/False) instead.\n",
      "  warn_deprecated(\"2.2\", \"Passing one of 'on', 'true', 'off', 'false' as a \"\n",
      "C:\\anaconda3old\\lib\\site-packages\\matplotlib\\cbook\\__init__.py:424: MatplotlibDeprecationWarning: \n",
      "Passing one of 'on', 'true', 'off', 'false' as a boolean is deprecated; use an actual boolean (True/False) instead.\n",
      "  warn_deprecated(\"2.2\", \"Passing one of 'on', 'true', 'off', 'false' as a \"\n",
      "C:\\anaconda3old\\lib\\site-packages\\matplotlib\\cbook\\__init__.py:424: MatplotlibDeprecationWarning: \n",
      "Passing one of 'on', 'true', 'off', 'false' as a boolean is deprecated; use an actual boolean (True/False) instead.\n",
      "  warn_deprecated(\"2.2\", \"Passing one of 'on', 'true', 'off', 'false' as a \"\n",
      "C:\\anaconda3old\\lib\\site-packages\\matplotlib\\cbook\\__init__.py:424: MatplotlibDeprecationWarning: \n",
      "Passing one of 'on', 'true', 'off', 'false' as a boolean is deprecated; use an actual boolean (True/False) instead.\n",
      "  warn_deprecated(\"2.2\", \"Passing one of 'on', 'true', 'off', 'false' as a \"\n",
      "C:\\anaconda3old\\lib\\site-packages\\matplotlib\\cbook\\__init__.py:424: MatplotlibDeprecationWarning: \n",
      "Passing one of 'on', 'true', 'off', 'false' as a boolean is deprecated; use an actual boolean (True/False) instead.\n",
      "  warn_deprecated(\"2.2\", \"Passing one of 'on', 'true', 'off', 'false' as a \"\n",
      "C:\\anaconda3old\\lib\\site-packages\\matplotlib\\cbook\\__init__.py:424: MatplotlibDeprecationWarning: \n",
      "Passing one of 'on', 'true', 'off', 'false' as a boolean is deprecated; use an actual boolean (True/False) instead.\n",
      "  warn_deprecated(\"2.2\", \"Passing one of 'on', 'true', 'off', 'false' as a \"\n",
      "C:\\anaconda3old\\lib\\site-packages\\matplotlib\\cbook\\__init__.py:424: MatplotlibDeprecationWarning: \n",
      "Passing one of 'on', 'true', 'off', 'false' as a boolean is deprecated; use an actual boolean (True/False) instead.\n",
      "  warn_deprecated(\"2.2\", \"Passing one of 'on', 'true', 'off', 'false' as a \"\n",
      "C:\\anaconda3old\\lib\\site-packages\\matplotlib\\cbook\\__init__.py:424: MatplotlibDeprecationWarning: \n",
      "Passing one of 'on', 'true', 'off', 'false' as a boolean is deprecated; use an actual boolean (True/False) instead.\n",
      "  warn_deprecated(\"2.2\", \"Passing one of 'on', 'true', 'off', 'false' as a \"\n",
      "C:\\anaconda3old\\lib\\site-packages\\matplotlib\\cbook\\__init__.py:424: MatplotlibDeprecationWarning: \n",
      "Passing one of 'on', 'true', 'off', 'false' as a boolean is deprecated; use an actual boolean (True/False) instead.\n",
      "  warn_deprecated(\"2.2\", \"Passing one of 'on', 'true', 'off', 'false' as a \"\n",
      "C:\\anaconda3old\\lib\\site-packages\\ipykernel_launcher.py:38: DeprecationWarning: \n",
      ".ix is deprecated. Please use\n",
      ".loc for label based indexing or\n",
      ".iloc for positional indexing\n",
      "\n",
      "See the documentation here:\n",
      "http://pandas.pydata.org/pandas-docs/stable/indexing.html#ix-indexer-is-deprecated\n"
     ]
    },
    {
     "data": {
      "image/png": "[encoded data removed]",
      "text/plain": [
       "<Figure size 1224x648 with 1 Axes>"
      ]
     },
     "metadata": {},
     "output_type": "display_data"
    }
   ],
   "source": [
    "%matplotlib inline \n",
    "\n",
    "#create data frame that has the result of the MDS plus the cluster numbers and docNames\n",
    "dfPlot = pd.DataFrame(dict(x=xs, y=ys, label=clusters, title=docs)) \n",
    "\n",
    "#group by cluster\n",
    "groups = dfPlot.groupby('label')\n",
    "\n",
    "# set up plot\n",
    "fig, ax = plt.subplots(figsize=(17, 9)) # set size\n",
    "ax.margins(0.05) # Optional, just adds 5% padding to the autoscaling\n",
    "\n",
    "#iterate through groups to layer the plot\n",
    "#note that I use the cluster_name and cluster_color dicts with the 'name' lookup to return the appropriate color/label\n",
    "for name, group in groups:\n",
    "    ax.plot(group.x, group.y, marker='o', linestyle='', ms=12, \n",
    "            label=cluster_names[name], color=cluster_colors[name], \n",
    "            mec='none')\n",
    "    ax.set_aspect('auto')\n",
    "    ax.tick_params(\\\n",
    "        axis= 'x',          # changes apply to the x-axis\n",
    "        which='both',      # both major and minor ticks are affected\n",
    "        bottom='off',      # ticks along the bottom edge are off\n",
    "        top='off',         # ticks along the top edge are off\n",
    "        labelbottom='off')\n",
    "    ax.tick_params(\\\n",
    "        axis= 'y',         # changes apply to the y-axis\n",
    "        which='both',      # both major and minor ticks are affected\n",
    "        left='off',      # ticks along the bottom edge are off\n",
    "        top='off',         # ticks along the top edge are off\n",
    "        labelleft='off')\n",
    "    \n",
    "ax.legend(numpoints=1)  #show legend with only 1 point\n",
    "\n",
    "#add label in x,y position with the label as the film title\n",
    "for i in range(len(dfPlot)):\n",
    "    ax.text(dfPlot.ix[i]['x'], dfPlot.ix[i]['y'], dfPlot.ix[i]['title'], size=8)  \n",
    "\n",
    "    \n",
    "plt.show() #show the plot\n",
    "\n",
    "#uncomment the below to save the plot if need be\n",
    "#plt.savefig('clusters_small_noaxes.png', dpi=200)\n"
   ]
  },
  {
   "cell_type": "code",
   "execution_count": null,
   "metadata": {},
   "outputs": [],
   "source": [
    "plt.savefig('clusters_small_noaxes.png', dpi=200)"
   ]
  },
  {
   "cell_type": "code",
   "execution_count": null,
   "metadata": {},
   "outputs": [],
   "source": [
    "plt.close()"
   ]
  },
  {
   "cell_type": "code",
   "execution_count": null,
   "metadata": {},
   "outputs": [],
   "source": [
    "#define custom toolbar location\n",
    "class TopToolbar(mpld3.plugins.PluginBase):\n",
    "    \"\"\"Plugin for moving toolbar to top of figure\"\"\"\n",
    "\n",
    "    def __init__(self):\n",
    "        self.dict_ = {\"type\": \"toptoolbar\"}"
   ]
  },
  {
   "cell_type": "code",
   "execution_count": null,
   "metadata": {},
   "outputs": [],
   "source": [
    "import mpld3\n",
    "#create data frame that has the result of the MDS plus the cluster numbers and titles\n",
    "dfd3Plt = pd.DataFrame(dict(x=xs, y=ys, label=clusters, title=docs)) \n",
    "\n",
    "#group by cluster\n",
    "groups = dfd3Plt.groupby('label')\n",
    "\n",
    "#define custom css to format the font and to remove the axis labeling\n",
    "css = \"\"\"\n",
    "text.mpld3-text, div.mpld3-tooltip {\n",
    "  font-family:Arial, Helvetica, sans-serif;\n",
    "}\n",
    "\n",
    "g.mpld3-xaxis, g.mpld3-yaxis {\n",
    "display: none; }\n",
    "\n",
    "svg.mpld3-figure {\n",
    "margin-left: -200px;}\n",
    "\"\"\"\n",
    "\n",
    "# Plot \n",
    "fig, ax = plt.subplots(figsize=(40,16)) #set plot size\n",
    "ax.margins(0.03) # Optional, just adds 5% padding to the autoscaling\n",
    "\n",
    "#iterate through groups to layer the plot\n",
    "#note that I use the cluster_name and cluster_color dicts with the 'name' lookup to return the appropriate color/label\n",
    "for name, group in groups:\n",
    "    points = ax.plot(group.x, group.y, marker='o', linestyle='', ms=18, \n",
    "                     label=cluster_names[name], mec='none', \n",
    "                     color=cluster_colors[name])\n",
    "    ax.set_aspect('auto')\n",
    "    labels = [i for i in group.title]\n",
    "    \n",
    "    #set tooltip using points, labels and the already defined 'css'\n",
    "    tooltip = mpld3.plugins.PointHTMLTooltip(points[0], labels,\n",
    "                                       voffset=10, hoffset=10, css=css)\n",
    "    #connect tooltip to fig\n",
    "    mpld3.plugins.connect(fig, tooltip, TopToolbar())    \n",
    "    \n",
    "    #set tick marks as blank\n",
    "    ax.axes.get_xaxis().set_ticks([])\n",
    "    ax.axes.get_yaxis().set_ticks([])\n",
    "    \n",
    "    #set axis as blank\n",
    "    ax.axes.get_xaxis().set_visible(False)\n",
    "    ax.axes.get_yaxis().set_visible(False)\n",
    "\n",
    "    \n",
    "ax.legend(numpoints=1) #show legend with only one dot\n",
    "\n",
    "mpld3.display() #show the plot\n"
   ]
  },
  {
   "cell_type": "code",
   "execution_count": null,
   "metadata": {},
   "outputs": [],
   "source": [
    "html = mpld3.fig_to_html(fig)\n",
    "print(html)"
   ]
  },
  {
   "cell_type": "markdown",
   "metadata": {},
   "source": [
    "Hierarchical document clustering"
   ]
  },
  {
   "cell_type": "code",
   "execution_count": 123,
   "metadata": {},
   "outputs": [
    {
     "name": "stderr",
     "output_type": "stream",
     "text": [
      "C:\\Users\\sunitprasad\\anaconda3\\lib\\site-packages\\matplotlib\\cbook\\deprecation.py:107: MatplotlibDeprecationWarning: Passing one of 'on', 'true', 'off', 'false' as a boolean is deprecated; use an actual boolean (True/False) instead.\n",
      "  warnings.warn(message, mplDeprecation, stacklevel=1)\n"
     ]
    },
    {
     "data": {
      "image/png": "[encoded data removed]",
      "text/plain": [
       "<Figure size 1080x1440 with 1 Axes>"
      ]
     },
     "metadata": {},
     "output_type": "display_data"
    }
   ],
   "source": [
    "from scipy.cluster.hierarchy import ward, dendrogram\n",
    "\n",
    "linkage_matrix = ward(dist) #define the linkage_matrix using ward clustering pre-computed distances\n",
    "\n",
    "fig, ax = plt.subplots(figsize=(15, 20)) # set size\n",
    "ax = dendrogram(linkage_matrix, orientation=\"right\", labels=docs);\n",
    "\n",
    "plt.tick_params(\\\n",
    "    axis= 'x',          # changes apply to the x-axis\n",
    "    which='both',      # both major and minor ticks are affected\n",
    "    bottom='off',      # ticks along the bottom edge are off\n",
    "    top='off',         # ticks along the top edge are off\n",
    "    labelbottom='off')\n",
    "\n",
    "plt.tight_layout() #show plot with tight layout\n",
    "\n",
    "#uncomment below to save figure\n",
    "#plt.savefig('ward_clusters.png', dpi=200) #save figure as ward_clusters"
   ]
  },
  {
   "cell_type": "code",
   "execution_count": null,
   "metadata": {},
   "outputs": [],
   "source": []
  }
 ],
 "metadata": {
  "kernelspec": {
   "display_name": "Python 3",
   "language": "python",
   "name": "python3"
  },
  "language_info": {
   "codemirror_mode": {
    "name": "ipython",
    "version": 3
   },
   "file_extension": ".py",
   "mimetype": "text/x-python",
   "name": "python",
   "nbconvert_exporter": "python",
   "pygments_lexer": "ipython3",
   "version": "3.7.4"
  },
  "toc": {
   "base_numbering": 1,
   "nav_menu": {},
   "number_sections": true,
   "sideBar": true,
   "skip_h1_title": false,
   "title_cell": "Table of Contents",
   "title_sidebar": "Contents",
   "toc_cell": false,
   "toc_position": {
    "height": "calc(100% - 180px)",
    "left": "10px",
    "top": "150px",
    "width": "273.941px"
   },
   "toc_section_display": true,
   "toc_window_display": true
  }
 },
 "nbformat": 4,
 "nbformat_minor": 2
}
